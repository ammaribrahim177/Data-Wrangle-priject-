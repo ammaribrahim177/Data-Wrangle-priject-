{
 "cells": [
  {
   "cell_type": "markdown",
   "metadata": {},
   "source": [
    "\n",
    "# Importing  libraries\n"
   ]
  },
  {
   "cell_type": "code",
   "execution_count": 1,
   "metadata": {},
   "outputs": [],
   "source": [
    "import pandas as pd\n",
    "import numpy as np\n",
    "from io import StringIO\n",
    "import requests\n",
    "#import tweepy\n",
    "import os\n",
    "import time\n",
    "import json\n",
    "import re\n",
    "import seaborn as sns\n",
    "import matplotlib.pyplot as plt \n",
    "%matplotlib inline"
   ]
  },
  {
   "cell_type": "markdown",
   "metadata": {},
   "source": [
    "## (Gathering)"
   ]
  },
  {
   "cell_type": "markdown",
   "metadata": {},
   "source": [
    "\n",
    "## Twitter Archived Enhanced csv\n"
   ]
  },
  {
   "cell_type": "code",
   "execution_count": 2,
   "metadata": {},
   "outputs": [
    {
     "name": "stdout",
     "output_type": "stream",
     "text": [
      "<class 'pandas.core.frame.DataFrame'>\n",
      "RangeIndex: 2356 entries, 0 to 2355\n",
      "Data columns (total 17 columns):\n",
      " #   Column                      Non-Null Count  Dtype  \n",
      "---  ------                      --------------  -----  \n",
      " 0   tweet_id                    2356 non-null   int64  \n",
      " 1   in_reply_to_status_id       78 non-null     float64\n",
      " 2   in_reply_to_user_id         78 non-null     float64\n",
      " 3   timestamp                   2356 non-null   object \n",
      " 4   source                      2356 non-null   object \n",
      " 5   text                        2356 non-null   object \n",
      " 6   retweeted_status_id         181 non-null    float64\n",
      " 7   retweeted_status_user_id    181 non-null    float64\n",
      " 8   retweeted_status_timestamp  181 non-null    object \n",
      " 9   expanded_urls               2297 non-null   object \n",
      " 10  rating_numerator            2356 non-null   int64  \n",
      " 11  rating_denominator          2356 non-null   int64  \n",
      " 12  name                        2356 non-null   object \n",
      " 13  doggo                       2356 non-null   object \n",
      " 14  floofer                     2356 non-null   object \n",
      " 15  pupper                      2356 non-null   object \n",
      " 16  puppo                       2356 non-null   object \n",
      "dtypes: float64(4), int64(3), object(10)\n",
      "memory usage: 313.0+ KB\n"
     ]
    },
    {
     "data": {
      "text/plain": [
       "0       None\n",
       "1       None\n",
       "2       None\n",
       "3       None\n",
       "4       None\n",
       "        ... \n",
       "2351    None\n",
       "2352    None\n",
       "2353    None\n",
       "2354    None\n",
       "2355    None\n",
       "Name: doggo, Length: 2356, dtype: object"
      ]
     },
     "execution_count": 2,
     "metadata": {},
     "output_type": "execute_result"
    }
   ],
   "source": [
    "# load the twitter-archive-enhanced.csv into a DataFrame\n",
    "twitter_archive = pd.read_csv('twitter-archive-enhanced.csv')\n",
    "twitter_archive.head(5)  \n",
    "#twitter_archive['source'].value_counts()\n",
    "twitter_archive.info()\n",
    "twitter_archive['doggo']"
   ]
  },
  {
   "cell_type": "markdown",
   "metadata": {},
   "source": [
    "## image_predictions.tsv"
   ]
  },
  {
   "cell_type": "code",
   "execution_count": 3,
   "metadata": {},
   "outputs": [
    {
     "data": {
      "text/html": [
       "<div>\n",
       "<style scoped>\n",
       "    .dataframe tbody tr th:only-of-type {\n",
       "        vertical-align: middle;\n",
       "    }\n",
       "\n",
       "    .dataframe tbody tr th {\n",
       "        vertical-align: top;\n",
       "    }\n",
       "\n",
       "    .dataframe thead th {\n",
       "        text-align: right;\n",
       "    }\n",
       "</style>\n",
       "<table border=\"1\" class=\"dataframe\">\n",
       "  <thead>\n",
       "    <tr style=\"text-align: right;\">\n",
       "      <th></th>\n",
       "      <th>tweet_id</th>\n",
       "      <th>jpg_url</th>\n",
       "      <th>img_num</th>\n",
       "      <th>p1</th>\n",
       "      <th>p1_conf</th>\n",
       "      <th>p1_dog</th>\n",
       "      <th>p2</th>\n",
       "      <th>p2_conf</th>\n",
       "      <th>p2_dog</th>\n",
       "      <th>p3</th>\n",
       "      <th>p3_conf</th>\n",
       "      <th>p3_dog</th>\n",
       "    </tr>\n",
       "  </thead>\n",
       "  <tbody>\n",
       "    <tr>\n",
       "      <th>0</th>\n",
       "      <td>666020888022790149</td>\n",
       "      <td>https://pbs.twimg.com/media/CT4udn0WwAA0aMy.jpg</td>\n",
       "      <td>1</td>\n",
       "      <td>Welsh_springer_spaniel</td>\n",
       "      <td>0.465074</td>\n",
       "      <td>True</td>\n",
       "      <td>collie</td>\n",
       "      <td>0.156665</td>\n",
       "      <td>True</td>\n",
       "      <td>Shetland_sheepdog</td>\n",
       "      <td>0.061428</td>\n",
       "      <td>True</td>\n",
       "    </tr>\n",
       "    <tr>\n",
       "      <th>1</th>\n",
       "      <td>666029285002620928</td>\n",
       "      <td>https://pbs.twimg.com/media/CT42GRgUYAA5iDo.jpg</td>\n",
       "      <td>1</td>\n",
       "      <td>redbone</td>\n",
       "      <td>0.506826</td>\n",
       "      <td>True</td>\n",
       "      <td>miniature_pinscher</td>\n",
       "      <td>0.074192</td>\n",
       "      <td>True</td>\n",
       "      <td>Rhodesian_ridgeback</td>\n",
       "      <td>0.072010</td>\n",
       "      <td>True</td>\n",
       "    </tr>\n",
       "    <tr>\n",
       "      <th>2</th>\n",
       "      <td>666033412701032449</td>\n",
       "      <td>https://pbs.twimg.com/media/CT4521TWwAEvMyu.jpg</td>\n",
       "      <td>1</td>\n",
       "      <td>German_shepherd</td>\n",
       "      <td>0.596461</td>\n",
       "      <td>True</td>\n",
       "      <td>malinois</td>\n",
       "      <td>0.138584</td>\n",
       "      <td>True</td>\n",
       "      <td>bloodhound</td>\n",
       "      <td>0.116197</td>\n",
       "      <td>True</td>\n",
       "    </tr>\n",
       "    <tr>\n",
       "      <th>3</th>\n",
       "      <td>666044226329800704</td>\n",
       "      <td>https://pbs.twimg.com/media/CT5Dr8HUEAA-lEu.jpg</td>\n",
       "      <td>1</td>\n",
       "      <td>Rhodesian_ridgeback</td>\n",
       "      <td>0.408143</td>\n",
       "      <td>True</td>\n",
       "      <td>redbone</td>\n",
       "      <td>0.360687</td>\n",
       "      <td>True</td>\n",
       "      <td>miniature_pinscher</td>\n",
       "      <td>0.222752</td>\n",
       "      <td>True</td>\n",
       "    </tr>\n",
       "    <tr>\n",
       "      <th>4</th>\n",
       "      <td>666049248165822465</td>\n",
       "      <td>https://pbs.twimg.com/media/CT5IQmsXIAAKY4A.jpg</td>\n",
       "      <td>1</td>\n",
       "      <td>miniature_pinscher</td>\n",
       "      <td>0.560311</td>\n",
       "      <td>True</td>\n",
       "      <td>Rottweiler</td>\n",
       "      <td>0.243682</td>\n",
       "      <td>True</td>\n",
       "      <td>Doberman</td>\n",
       "      <td>0.154629</td>\n",
       "      <td>True</td>\n",
       "    </tr>\n",
       "  </tbody>\n",
       "</table>\n",
       "</div>"
      ],
      "text/plain": [
       "             tweet_id                                          jpg_url  \\\n",
       "0  666020888022790149  https://pbs.twimg.com/media/CT4udn0WwAA0aMy.jpg   \n",
       "1  666029285002620928  https://pbs.twimg.com/media/CT42GRgUYAA5iDo.jpg   \n",
       "2  666033412701032449  https://pbs.twimg.com/media/CT4521TWwAEvMyu.jpg   \n",
       "3  666044226329800704  https://pbs.twimg.com/media/CT5Dr8HUEAA-lEu.jpg   \n",
       "4  666049248165822465  https://pbs.twimg.com/media/CT5IQmsXIAAKY4A.jpg   \n",
       "\n",
       "   img_num                      p1   p1_conf  p1_dog                  p2  \\\n",
       "0        1  Welsh_springer_spaniel  0.465074    True              collie   \n",
       "1        1                 redbone  0.506826    True  miniature_pinscher   \n",
       "2        1         German_shepherd  0.596461    True            malinois   \n",
       "3        1     Rhodesian_ridgeback  0.408143    True             redbone   \n",
       "4        1      miniature_pinscher  0.560311    True          Rottweiler   \n",
       "\n",
       "    p2_conf  p2_dog                   p3   p3_conf  p3_dog  \n",
       "0  0.156665    True    Shetland_sheepdog  0.061428    True  \n",
       "1  0.074192    True  Rhodesian_ridgeback  0.072010    True  \n",
       "2  0.138584    True           bloodhound  0.116197    True  \n",
       "3  0.360687    True   miniature_pinscher  0.222752    True  \n",
       "4  0.243682    True             Doberman  0.154629    True  "
      ]
     },
     "execution_count": 3,
     "metadata": {},
     "output_type": "execute_result"
    }
   ],
   "source": [
    "# Make directory if it doesn't already exist\n",
    "folder_name= 'image_predictions.tsv'\n",
    "if not os.path.exists(folder_name):\n",
    "    os.makedirs(folder_name)\n",
    "URL ='https://d17h27t6h515a5.cloudfront.net/topher/2017/August/599fd2ad_image-predictions/image-predictions.tsv'\n",
    "response = requests.get(URL) \n",
    "response\n",
    "# with open to ues the file and close aout \n",
    "with open (URL.split('/')[-1], mode='wb') as file:\n",
    "    file.write(response.content)\n",
    "\n",
    "# image_predictions data  is loaded in df as and sep ues /t \n",
    "image_predictions = pd.read_csv('image-predictions.tsv', sep='\\t')\n",
    "image_predictions.head()"
   ]
  },
  {
   "cell_type": "markdown",
   "metadata": {},
   "source": [
    "## tweet-json.json"
   ]
  },
  {
   "cell_type": "code",
   "execution_count": 4,
   "metadata": {
    "scrolled": false
   },
   "outputs": [],
   "source": [
    "import json\n",
    "user_followers_count =[]\n",
    "user_favourites_count=[]\n",
    "user_friends_count=[]\n",
    "tweet_dataset = pd.read_json('tweet-json.json',lines=True)\n",
    "for i in range(len(tweet_dataset)):\n",
    "    user_followers_count.append(tweet_dataset['user'][i]['followers_count'])\n",
    "    user_friends_count.append(tweet_dataset['user'][i]['friends_count'])\n",
    "    user_favourites_count.append(tweet_dataset['user'][i]['favourites_count'])\n"
   ]
  },
  {
   "cell_type": "code",
   "execution_count": 5,
   "metadata": {},
   "outputs": [
    {
     "data": {
      "text/html": [
       "<div>\n",
       "<style scoped>\n",
       "    .dataframe tbody tr th:only-of-type {\n",
       "        vertical-align: middle;\n",
       "    }\n",
       "\n",
       "    .dataframe tbody tr th {\n",
       "        vertical-align: top;\n",
       "    }\n",
       "\n",
       "    .dataframe thead th {\n",
       "        text-align: right;\n",
       "    }\n",
       "</style>\n",
       "<table border=\"1\" class=\"dataframe\">\n",
       "  <thead>\n",
       "    <tr style=\"text-align: right;\">\n",
       "      <th></th>\n",
       "      <th>retweet_count</th>\n",
       "      <th>favorite_count</th>\n",
       "      <th>created_at</th>\n",
       "      <th>full_text</th>\n",
       "      <th>id</th>\n",
       "    </tr>\n",
       "  </thead>\n",
       "  <tbody>\n",
       "    <tr>\n",
       "      <th>0</th>\n",
       "      <td>8853</td>\n",
       "      <td>39467</td>\n",
       "      <td>2017-08-01 16:23:56+00:00</td>\n",
       "      <td>This is Phineas. He's a mystical boy. Only eve...</td>\n",
       "      <td>892420643555336193</td>\n",
       "    </tr>\n",
       "    <tr>\n",
       "      <th>1</th>\n",
       "      <td>6514</td>\n",
       "      <td>33819</td>\n",
       "      <td>2017-08-01 00:17:27+00:00</td>\n",
       "      <td>This is Tilly. She's just checking pup on you....</td>\n",
       "      <td>892177421306343426</td>\n",
       "    </tr>\n",
       "    <tr>\n",
       "      <th>2</th>\n",
       "      <td>4328</td>\n",
       "      <td>25461</td>\n",
       "      <td>2017-07-31 00:18:03+00:00</td>\n",
       "      <td>This is Archie. He is a rare Norwegian Pouncin...</td>\n",
       "      <td>891815181378084864</td>\n",
       "    </tr>\n",
       "    <tr>\n",
       "      <th>3</th>\n",
       "      <td>8964</td>\n",
       "      <td>42908</td>\n",
       "      <td>2017-07-30 15:58:51+00:00</td>\n",
       "      <td>This is Darla. She commenced a snooze mid meal...</td>\n",
       "      <td>891689557279858688</td>\n",
       "    </tr>\n",
       "    <tr>\n",
       "      <th>4</th>\n",
       "      <td>9774</td>\n",
       "      <td>41048</td>\n",
       "      <td>2017-07-29 16:00:24+00:00</td>\n",
       "      <td>This is Franklin. He would like you to stop ca...</td>\n",
       "      <td>891327558926688256</td>\n",
       "    </tr>\n",
       "    <tr>\n",
       "      <th>...</th>\n",
       "      <td>...</td>\n",
       "      <td>...</td>\n",
       "      <td>...</td>\n",
       "      <td>...</td>\n",
       "      <td>...</td>\n",
       "    </tr>\n",
       "    <tr>\n",
       "      <th>2349</th>\n",
       "      <td>41</td>\n",
       "      <td>111</td>\n",
       "      <td>2015-11-16 00:24:50+00:00</td>\n",
       "      <td>Here we have a 1949 1st generation vulpix. Enj...</td>\n",
       "      <td>666049248165822465</td>\n",
       "    </tr>\n",
       "    <tr>\n",
       "      <th>2350</th>\n",
       "      <td>147</td>\n",
       "      <td>311</td>\n",
       "      <td>2015-11-16 00:04:52+00:00</td>\n",
       "      <td>This is a purebred Piers Morgan. Loves to Netf...</td>\n",
       "      <td>666044226329800704</td>\n",
       "    </tr>\n",
       "    <tr>\n",
       "      <th>2351</th>\n",
       "      <td>47</td>\n",
       "      <td>128</td>\n",
       "      <td>2015-11-15 23:21:54+00:00</td>\n",
       "      <td>Here is a very happy pup. Big fan of well-main...</td>\n",
       "      <td>666033412701032449</td>\n",
       "    </tr>\n",
       "    <tr>\n",
       "      <th>2352</th>\n",
       "      <td>48</td>\n",
       "      <td>132</td>\n",
       "      <td>2015-11-15 23:05:30+00:00</td>\n",
       "      <td>This is a western brown Mitsubishi terrier. Up...</td>\n",
       "      <td>666029285002620928</td>\n",
       "    </tr>\n",
       "    <tr>\n",
       "      <th>2353</th>\n",
       "      <td>532</td>\n",
       "      <td>2535</td>\n",
       "      <td>2015-11-15 22:32:08+00:00</td>\n",
       "      <td>Here we have a Japanese Irish Setter. Lost eye...</td>\n",
       "      <td>666020888022790149</td>\n",
       "    </tr>\n",
       "  </tbody>\n",
       "</table>\n",
       "<p>2354 rows × 5 columns</p>\n",
       "</div>"
      ],
      "text/plain": [
       "      retweet_count  favorite_count                created_at  \\\n",
       "0              8853           39467 2017-08-01 16:23:56+00:00   \n",
       "1              6514           33819 2017-08-01 00:17:27+00:00   \n",
       "2              4328           25461 2017-07-31 00:18:03+00:00   \n",
       "3              8964           42908 2017-07-30 15:58:51+00:00   \n",
       "4              9774           41048 2017-07-29 16:00:24+00:00   \n",
       "...             ...             ...                       ...   \n",
       "2349             41             111 2015-11-16 00:24:50+00:00   \n",
       "2350            147             311 2015-11-16 00:04:52+00:00   \n",
       "2351             47             128 2015-11-15 23:21:54+00:00   \n",
       "2352             48             132 2015-11-15 23:05:30+00:00   \n",
       "2353            532            2535 2015-11-15 22:32:08+00:00   \n",
       "\n",
       "                                              full_text                  id  \n",
       "0     This is Phineas. He's a mystical boy. Only eve...  892420643555336193  \n",
       "1     This is Tilly. She's just checking pup on you....  892177421306343426  \n",
       "2     This is Archie. He is a rare Norwegian Pouncin...  891815181378084864  \n",
       "3     This is Darla. She commenced a snooze mid meal...  891689557279858688  \n",
       "4     This is Franklin. He would like you to stop ca...  891327558926688256  \n",
       "...                                                 ...                 ...  \n",
       "2349  Here we have a 1949 1st generation vulpix. Enj...  666049248165822465  \n",
       "2350  This is a purebred Piers Morgan. Loves to Netf...  666044226329800704  \n",
       "2351  Here is a very happy pup. Big fan of well-main...  666033412701032449  \n",
       "2352  This is a western brown Mitsubishi terrier. Up...  666029285002620928  \n",
       "2353  Here we have a Japanese Irish Setter. Lost eye...  666020888022790149  \n",
       "\n",
       "[2354 rows x 5 columns]"
      ]
     },
     "execution_count": 5,
     "metadata": {},
     "output_type": "execute_result"
    }
   ],
   "source": [
    "df_tweets_json = pd.DataFrame(tweet_dataset, columns = ['retweet_count','favorite_count','created_at','full_text','id']) \n",
    "df_tweets_json"
   ]
  },
  {
   "cell_type": "markdown",
   "metadata": {},
   "source": [
    "# rename the retweet count and favourite count to fiffer the between tweet and user "
   ]
  },
  {
   "cell_type": "code",
   "execution_count": 6,
   "metadata": {},
   "outputs": [
    {
     "data": {
      "text/html": [
       "<div>\n",
       "<style scoped>\n",
       "    .dataframe tbody tr th:only-of-type {\n",
       "        vertical-align: middle;\n",
       "    }\n",
       "\n",
       "    .dataframe tbody tr th {\n",
       "        vertical-align: top;\n",
       "    }\n",
       "\n",
       "    .dataframe thead th {\n",
       "        text-align: right;\n",
       "    }\n",
       "</style>\n",
       "<table border=\"1\" class=\"dataframe\">\n",
       "  <thead>\n",
       "    <tr style=\"text-align: right;\">\n",
       "      <th></th>\n",
       "      <th>tweet_retweet_count</th>\n",
       "      <th>tweet_favorite_count</th>\n",
       "      <th>created_at</th>\n",
       "      <th>full_text</th>\n",
       "      <th>tweet_id</th>\n",
       "      <th>user_followers_count</th>\n",
       "      <th>user_friends_count</th>\n",
       "      <th>user_favourites_count</th>\n",
       "    </tr>\n",
       "  </thead>\n",
       "  <tbody>\n",
       "    <tr>\n",
       "      <th>0</th>\n",
       "      <td>8853</td>\n",
       "      <td>39467</td>\n",
       "      <td>2017-08-01 16:23:56+00:00</td>\n",
       "      <td>This is Phineas. He's a mystical boy. Only eve...</td>\n",
       "      <td>892420643555336193</td>\n",
       "      <td>3200889</td>\n",
       "      <td>104</td>\n",
       "      <td>114031</td>\n",
       "    </tr>\n",
       "    <tr>\n",
       "      <th>1</th>\n",
       "      <td>6514</td>\n",
       "      <td>33819</td>\n",
       "      <td>2017-08-01 00:17:27+00:00</td>\n",
       "      <td>This is Tilly. She's just checking pup on you....</td>\n",
       "      <td>892177421306343426</td>\n",
       "      <td>3200889</td>\n",
       "      <td>104</td>\n",
       "      <td>114031</td>\n",
       "    </tr>\n",
       "    <tr>\n",
       "      <th>2</th>\n",
       "      <td>4328</td>\n",
       "      <td>25461</td>\n",
       "      <td>2017-07-31 00:18:03+00:00</td>\n",
       "      <td>This is Archie. He is a rare Norwegian Pouncin...</td>\n",
       "      <td>891815181378084864</td>\n",
       "      <td>3200889</td>\n",
       "      <td>104</td>\n",
       "      <td>114031</td>\n",
       "    </tr>\n",
       "    <tr>\n",
       "      <th>3</th>\n",
       "      <td>8964</td>\n",
       "      <td>42908</td>\n",
       "      <td>2017-07-30 15:58:51+00:00</td>\n",
       "      <td>This is Darla. She commenced a snooze mid meal...</td>\n",
       "      <td>891689557279858688</td>\n",
       "      <td>3200889</td>\n",
       "      <td>104</td>\n",
       "      <td>114031</td>\n",
       "    </tr>\n",
       "    <tr>\n",
       "      <th>4</th>\n",
       "      <td>9774</td>\n",
       "      <td>41048</td>\n",
       "      <td>2017-07-29 16:00:24+00:00</td>\n",
       "      <td>This is Franklin. He would like you to stop ca...</td>\n",
       "      <td>891327558926688256</td>\n",
       "      <td>3200889</td>\n",
       "      <td>104</td>\n",
       "      <td>114031</td>\n",
       "    </tr>\n",
       "    <tr>\n",
       "      <th>...</th>\n",
       "      <td>...</td>\n",
       "      <td>...</td>\n",
       "      <td>...</td>\n",
       "      <td>...</td>\n",
       "      <td>...</td>\n",
       "      <td>...</td>\n",
       "      <td>...</td>\n",
       "      <td>...</td>\n",
       "    </tr>\n",
       "    <tr>\n",
       "      <th>2349</th>\n",
       "      <td>41</td>\n",
       "      <td>111</td>\n",
       "      <td>2015-11-16 00:24:50+00:00</td>\n",
       "      <td>Here we have a 1949 1st generation vulpix. Enj...</td>\n",
       "      <td>666049248165822465</td>\n",
       "      <td>3201018</td>\n",
       "      <td>104</td>\n",
       "      <td>114031</td>\n",
       "    </tr>\n",
       "    <tr>\n",
       "      <th>2350</th>\n",
       "      <td>147</td>\n",
       "      <td>311</td>\n",
       "      <td>2015-11-16 00:04:52+00:00</td>\n",
       "      <td>This is a purebred Piers Morgan. Loves to Netf...</td>\n",
       "      <td>666044226329800704</td>\n",
       "      <td>3201018</td>\n",
       "      <td>104</td>\n",
       "      <td>114031</td>\n",
       "    </tr>\n",
       "    <tr>\n",
       "      <th>2351</th>\n",
       "      <td>47</td>\n",
       "      <td>128</td>\n",
       "      <td>2015-11-15 23:21:54+00:00</td>\n",
       "      <td>Here is a very happy pup. Big fan of well-main...</td>\n",
       "      <td>666033412701032449</td>\n",
       "      <td>3201018</td>\n",
       "      <td>104</td>\n",
       "      <td>114031</td>\n",
       "    </tr>\n",
       "    <tr>\n",
       "      <th>2352</th>\n",
       "      <td>48</td>\n",
       "      <td>132</td>\n",
       "      <td>2015-11-15 23:05:30+00:00</td>\n",
       "      <td>This is a western brown Mitsubishi terrier. Up...</td>\n",
       "      <td>666029285002620928</td>\n",
       "      <td>3201018</td>\n",
       "      <td>104</td>\n",
       "      <td>114031</td>\n",
       "    </tr>\n",
       "    <tr>\n",
       "      <th>2353</th>\n",
       "      <td>532</td>\n",
       "      <td>2535</td>\n",
       "      <td>2015-11-15 22:32:08+00:00</td>\n",
       "      <td>Here we have a Japanese Irish Setter. Lost eye...</td>\n",
       "      <td>666020888022790149</td>\n",
       "      <td>3201018</td>\n",
       "      <td>104</td>\n",
       "      <td>114031</td>\n",
       "    </tr>\n",
       "  </tbody>\n",
       "</table>\n",
       "<p>2354 rows × 8 columns</p>\n",
       "</div>"
      ],
      "text/plain": [
       "      tweet_retweet_count  tweet_favorite_count                created_at  \\\n",
       "0                    8853                 39467 2017-08-01 16:23:56+00:00   \n",
       "1                    6514                 33819 2017-08-01 00:17:27+00:00   \n",
       "2                    4328                 25461 2017-07-31 00:18:03+00:00   \n",
       "3                    8964                 42908 2017-07-30 15:58:51+00:00   \n",
       "4                    9774                 41048 2017-07-29 16:00:24+00:00   \n",
       "...                   ...                   ...                       ...   \n",
       "2349                   41                   111 2015-11-16 00:24:50+00:00   \n",
       "2350                  147                   311 2015-11-16 00:04:52+00:00   \n",
       "2351                   47                   128 2015-11-15 23:21:54+00:00   \n",
       "2352                   48                   132 2015-11-15 23:05:30+00:00   \n",
       "2353                  532                  2535 2015-11-15 22:32:08+00:00   \n",
       "\n",
       "                                              full_text            tweet_id  \\\n",
       "0     This is Phineas. He's a mystical boy. Only eve...  892420643555336193   \n",
       "1     This is Tilly. She's just checking pup on you....  892177421306343426   \n",
       "2     This is Archie. He is a rare Norwegian Pouncin...  891815181378084864   \n",
       "3     This is Darla. She commenced a snooze mid meal...  891689557279858688   \n",
       "4     This is Franklin. He would like you to stop ca...  891327558926688256   \n",
       "...                                                 ...                 ...   \n",
       "2349  Here we have a 1949 1st generation vulpix. Enj...  666049248165822465   \n",
       "2350  This is a purebred Piers Morgan. Loves to Netf...  666044226329800704   \n",
       "2351  Here is a very happy pup. Big fan of well-main...  666033412701032449   \n",
       "2352  This is a western brown Mitsubishi terrier. Up...  666029285002620928   \n",
       "2353  Here we have a Japanese Irish Setter. Lost eye...  666020888022790149   \n",
       "\n",
       "      user_followers_count  user_friends_count  user_favourites_count  \n",
       "0                  3200889                 104                 114031  \n",
       "1                  3200889                 104                 114031  \n",
       "2                  3200889                 104                 114031  \n",
       "3                  3200889                 104                 114031  \n",
       "4                  3200889                 104                 114031  \n",
       "...                    ...                 ...                    ...  \n",
       "2349               3201018                 104                 114031  \n",
       "2350               3201018                 104                 114031  \n",
       "2351               3201018                 104                 114031  \n",
       "2352               3201018                 104                 114031  \n",
       "2353               3201018                 104                 114031  \n",
       "\n",
       "[2354 rows x 8 columns]"
      ]
     },
     "execution_count": 6,
     "metadata": {},
     "output_type": "execute_result"
    }
   ],
   "source": [
    "\n",
    "df_tweets_json['user_followers_count'] = user_followers_count\n",
    "df_tweets_json['user_friends_count'] = user_friends_count\n",
    "df_tweets_json['user_favourites_count'] = user_favourites_count\n",
    "df_tweets_json.rename(columns = {\"id\":\"tweet_id\",\"favorite_count\":\"tweet_favorite_count\",\"retweet_count\":\"tweet_retweet_count\"},inplace =True)\n",
    "\n",
    "df_tweets_json"
   ]
  },
  {
   "cell_type": "markdown",
   "metadata": {},
   "source": [
    "## at this point all data is (Gathering) load and be visual aassessing "
   ]
  },
  {
   "cell_type": "markdown",
   "metadata": {},
   "source": [
    "## Assessing"
   ]
  },
  {
   "cell_type": "code",
   "execution_count": 7,
   "metadata": {},
   "outputs": [
    {
     "name": "stdout",
     "output_type": "stream",
     "text": [
      "<class 'pandas.core.frame.DataFrame'>\n",
      "RangeIndex: 2356 entries, 0 to 2355\n",
      "Data columns (total 17 columns):\n",
      " #   Column                      Non-Null Count  Dtype  \n",
      "---  ------                      --------------  -----  \n",
      " 0   tweet_id                    2356 non-null   int64  \n",
      " 1   in_reply_to_status_id       78 non-null     float64\n",
      " 2   in_reply_to_user_id         78 non-null     float64\n",
      " 3   timestamp                   2356 non-null   object \n",
      " 4   source                      2356 non-null   object \n",
      " 5   text                        2356 non-null   object \n",
      " 6   retweeted_status_id         181 non-null    float64\n",
      " 7   retweeted_status_user_id    181 non-null    float64\n",
      " 8   retweeted_status_timestamp  181 non-null    object \n",
      " 9   expanded_urls               2297 non-null   object \n",
      " 10  rating_numerator            2356 non-null   int64  \n",
      " 11  rating_denominator          2356 non-null   int64  \n",
      " 12  name                        2356 non-null   object \n",
      " 13  doggo                       2356 non-null   object \n",
      " 14  floofer                     2356 non-null   object \n",
      " 15  pupper                      2356 non-null   object \n",
      " 16  puppo                       2356 non-null   object \n",
      "dtypes: float64(4), int64(3), object(10)\n",
      "memory usage: 313.0+ KB\n",
      "<class 'pandas.core.frame.DataFrame'>\n",
      "RangeIndex: 2354 entries, 0 to 2353\n",
      "Data columns (total 31 columns):\n",
      " #   Column                         Non-Null Count  Dtype              \n",
      "---  ------                         --------------  -----              \n",
      " 0   created_at                     2354 non-null   datetime64[ns, UTC]\n",
      " 1   id                             2354 non-null   int64              \n",
      " 2   id_str                         2354 non-null   int64              \n",
      " 3   full_text                      2354 non-null   object             \n",
      " 4   truncated                      2354 non-null   bool               \n",
      " 5   display_text_range             2354 non-null   object             \n",
      " 6   entities                       2354 non-null   object             \n",
      " 7   extended_entities              2073 non-null   object             \n",
      " 8   source                         2354 non-null   object             \n",
      " 9   in_reply_to_status_id          78 non-null     float64            \n",
      " 10  in_reply_to_status_id_str      78 non-null     float64            \n",
      " 11  in_reply_to_user_id            78 non-null     float64            \n",
      " 12  in_reply_to_user_id_str        78 non-null     float64            \n",
      " 13  in_reply_to_screen_name        78 non-null     object             \n",
      " 14  user                           2354 non-null   object             \n",
      " 15  geo                            0 non-null      float64            \n",
      " 16  coordinates                    0 non-null      float64            \n",
      " 17  place                          1 non-null      object             \n",
      " 18  contributors                   0 non-null      float64            \n",
      " 19  is_quote_status                2354 non-null   bool               \n",
      " 20  retweet_count                  2354 non-null   int64              \n",
      " 21  favorite_count                 2354 non-null   int64              \n",
      " 22  favorited                      2354 non-null   bool               \n",
      " 23  retweeted                      2354 non-null   bool               \n",
      " 24  possibly_sensitive             2211 non-null   float64            \n",
      " 25  possibly_sensitive_appealable  2211 non-null   float64            \n",
      " 26  lang                           2354 non-null   object             \n",
      " 27  retweeted_status               179 non-null    object             \n",
      " 28  quoted_status_id               29 non-null     float64            \n",
      " 29  quoted_status_id_str           29 non-null     float64            \n",
      " 30  quoted_status                  28 non-null     object             \n",
      "dtypes: bool(4), datetime64[ns, UTC](1), float64(11), int64(4), object(11)\n",
      "memory usage: 505.9+ KB\n",
      "<class 'pandas.core.frame.DataFrame'>\n",
      "RangeIndex: 2354 entries, 0 to 2353\n",
      "Data columns (total 8 columns):\n",
      " #   Column                 Non-Null Count  Dtype              \n",
      "---  ------                 --------------  -----              \n",
      " 0   tweet_retweet_count    2354 non-null   int64              \n",
      " 1   tweet_favorite_count   2354 non-null   int64              \n",
      " 2   created_at             2354 non-null   datetime64[ns, UTC]\n",
      " 3   full_text              2354 non-null   object             \n",
      " 4   tweet_id               2354 non-null   int64              \n",
      " 5   user_followers_count   2354 non-null   int64              \n",
      " 6   user_friends_count     2354 non-null   int64              \n",
      " 7   user_favourites_count  2354 non-null   int64              \n",
      "dtypes: datetime64[ns, UTC](1), int64(6), object(1)\n",
      "memory usage: 147.2+ KB\n"
     ]
    },
    {
     "data": {
      "text/plain": [
       "0       892420643555336193\n",
       "1       892177421306343426\n",
       "2       891815181378084864\n",
       "3       891689557279858688\n",
       "4       891327558926688256\n",
       "               ...        \n",
       "2349    666049248165822465\n",
       "2350    666044226329800704\n",
       "2351    666033412701032449\n",
       "2352    666029285002620928\n",
       "2353    666020888022790149\n",
       "Name: tweet_id, Length: 2354, dtype: int64"
      ]
     },
     "execution_count": 7,
     "metadata": {},
     "output_type": "execute_result"
    }
   ],
   "source": [
    "#twitter_archive\n",
    "twitter_archive.info()\n",
    "twitter_archive.describe()\n",
    "#tweet_dataset\n",
    "tweet_dataset.info()\n",
    "tweet_dataset.describe()\n",
    "#df_tweets_json\n",
    "df_tweets_json.info()\n",
    "df_tweets_json.describe()\n",
    "df_tweets_json['tweet_id']"
   ]
  },
  {
   "cell_type": "markdown",
   "metadata": {},
   "source": [
    "## Quality  Issues\n",
    "\n"
   ]
  },
  {
   "cell_type": "markdown",
   "metadata": {},
   "source": [
    "\n",
    "\n",
    "\n",
    "# 1- Clean the content of source column, makes readable.\n",
    "\n",
    "# 2- Refine p1, p2 and p3 columns and confidence \n",
    "\n",
    "#  as  the probapility of p2_conf and p3_conf both is lower than 0.5 we will drop theses unuesful coulums \n",
    "\n",
    "# 3-rename p1  , p1_dog and p1-conf makes it readable \n",
    "\n",
    "# 4- drop unusefull columns (in_reply_to_status_id), (in_reply_to_user_id ),(retweeted_status_timestamp) ,(retweeted_status_user_id), (retweeted_status_id)\n",
    "\n",
    "# 5-  dropping duplicates  columns refar to datatime (created_at  ,timestamp  which is object not in a good format .\n",
    "\n",
    "# 6- check and Delete duplicated tweet_id\n",
    "\n",
    "# 7-change any none to NaN\n",
    "\n",
    "# 8-ues text extract gthe dog name adds it to new coulme dog_name and drop the column name \n",
    "\n",
    "\n",
    "# tidiness issues\n",
    "\n",
    "\n",
    "# 1- 3 dataframes into one to clean and process.\n",
    "\n",
    "# 2- melting the 'doggo', 'floofer', 'pupper' and 'puppo' columns into one column life_stage.\n"
   ]
  },
  {
   "cell_type": "markdown",
   "metadata": {},
   "source": [
    "## clean"
   ]
  },
  {
   "cell_type": "code",
   "execution_count": 8,
   "metadata": {},
   "outputs": [],
   "source": [
    "#copy dataframes\n",
    "twitter_archive_clean = twitter_archive.copy()\n",
    "image_predictions_clean = image_predictions.copy()\n",
    "df_tweets_json_clean = df_tweets_json.copy()"
   ]
  },
  {
   "cell_type": "markdown",
   "metadata": {},
   "source": [
    "\n",
    "# define\n",
    "# 1: Resolve the biggest structural issue i.e. there should be 1 master table instead of 3 tables. Thus I am merging the 3 dataframes into one. And then we will have only 1 dataframe to clean and process.\n"
   ]
  },
  {
   "cell_type": "markdown",
   "metadata": {},
   "source": [
    "# code "
   ]
  },
  {
   "cell_type": "code",
   "execution_count": 9,
   "metadata": {},
   "outputs": [],
   "source": [
    "twitter_archive_clean = pd.merge(left=twitter_archive_clean,\n",
    "                                 right=df_tweets_json_clean, left_on='tweet_id', right_on='tweet_id', how='inner')"
   ]
  },
  {
   "cell_type": "code",
   "execution_count": 10,
   "metadata": {},
   "outputs": [],
   "source": [
    "twitter_archive_clean = twitter_archive_clean.merge(image_predictions_clean, on='tweet_id', how='inner')"
   ]
  },
  {
   "cell_type": "markdown",
   "metadata": {},
   "source": [
    "# test"
   ]
  },
  {
   "cell_type": "code",
   "execution_count": 11,
   "metadata": {},
   "outputs": [
    {
     "name": "stdout",
     "output_type": "stream",
     "text": [
      "<class 'pandas.core.frame.DataFrame'>\n",
      "Int64Index: 2073 entries, 0 to 2072\n",
      "Data columns (total 35 columns):\n",
      " #   Column                      Non-Null Count  Dtype              \n",
      "---  ------                      --------------  -----              \n",
      " 0   tweet_id                    2073 non-null   int64              \n",
      " 1   in_reply_to_status_id       23 non-null     float64            \n",
      " 2   in_reply_to_user_id         23 non-null     float64            \n",
      " 3   timestamp                   2073 non-null   object             \n",
      " 4   source                      2073 non-null   object             \n",
      " 5   text                        2073 non-null   object             \n",
      " 6   retweeted_status_id         79 non-null     float64            \n",
      " 7   retweeted_status_user_id    79 non-null     float64            \n",
      " 8   retweeted_status_timestamp  79 non-null     object             \n",
      " 9   expanded_urls               2073 non-null   object             \n",
      " 10  rating_numerator            2073 non-null   int64              \n",
      " 11  rating_denominator          2073 non-null   int64              \n",
      " 12  name                        2073 non-null   object             \n",
      " 13  doggo                       2073 non-null   object             \n",
      " 14  floofer                     2073 non-null   object             \n",
      " 15  pupper                      2073 non-null   object             \n",
      " 16  puppo                       2073 non-null   object             \n",
      " 17  tweet_retweet_count         2073 non-null   int64              \n",
      " 18  tweet_favorite_count        2073 non-null   int64              \n",
      " 19  created_at                  2073 non-null   datetime64[ns, UTC]\n",
      " 20  full_text                   2073 non-null   object             \n",
      " 21  user_followers_count        2073 non-null   int64              \n",
      " 22  user_friends_count          2073 non-null   int64              \n",
      " 23  user_favourites_count       2073 non-null   int64              \n",
      " 24  jpg_url                     2073 non-null   object             \n",
      " 25  img_num                     2073 non-null   int64              \n",
      " 26  p1                          2073 non-null   object             \n",
      " 27  p1_conf                     2073 non-null   float64            \n",
      " 28  p1_dog                      2073 non-null   bool               \n",
      " 29  p2                          2073 non-null   object             \n",
      " 30  p2_conf                     2073 non-null   float64            \n",
      " 31  p2_dog                      2073 non-null   bool               \n",
      " 32  p3                          2073 non-null   object             \n",
      " 33  p3_conf                     2073 non-null   float64            \n",
      " 34  p3_dog                      2073 non-null   bool               \n",
      "dtypes: bool(3), datetime64[ns, UTC](1), float64(7), int64(9), object(15)\n",
      "memory usage: 540.5+ KB\n"
     ]
    }
   ],
   "source": [
    "twitter_archive_clean.info()"
   ]
  },
  {
   "cell_type": "code",
   "execution_count": 12,
   "metadata": {},
   "outputs": [
    {
     "data": {
      "text/html": [
       "<div>\n",
       "<style scoped>\n",
       "    .dataframe tbody tr th:only-of-type {\n",
       "        vertical-align: middle;\n",
       "    }\n",
       "\n",
       "    .dataframe tbody tr th {\n",
       "        vertical-align: top;\n",
       "    }\n",
       "\n",
       "    .dataframe thead th {\n",
       "        text-align: right;\n",
       "    }\n",
       "</style>\n",
       "<table border=\"1\" class=\"dataframe\">\n",
       "  <thead>\n",
       "    <tr style=\"text-align: right;\">\n",
       "      <th></th>\n",
       "      <th>tweet_id</th>\n",
       "      <th>in_reply_to_status_id</th>\n",
       "      <th>in_reply_to_user_id</th>\n",
       "      <th>timestamp</th>\n",
       "      <th>source</th>\n",
       "      <th>text</th>\n",
       "      <th>retweeted_status_id</th>\n",
       "      <th>retweeted_status_user_id</th>\n",
       "      <th>retweeted_status_timestamp</th>\n",
       "      <th>expanded_urls</th>\n",
       "      <th>...</th>\n",
       "      <th>img_num</th>\n",
       "      <th>p1</th>\n",
       "      <th>p1_conf</th>\n",
       "      <th>p1_dog</th>\n",
       "      <th>p2</th>\n",
       "      <th>p2_conf</th>\n",
       "      <th>p2_dog</th>\n",
       "      <th>p3</th>\n",
       "      <th>p3_conf</th>\n",
       "      <th>p3_dog</th>\n",
       "    </tr>\n",
       "  </thead>\n",
       "  <tbody>\n",
       "    <tr>\n",
       "      <th>0</th>\n",
       "      <td>892420643555336193</td>\n",
       "      <td>NaN</td>\n",
       "      <td>NaN</td>\n",
       "      <td>2017-08-01 16:23:56 +0000</td>\n",
       "      <td>&lt;a href=\"http://twitter.com/download/iphone\" r...</td>\n",
       "      <td>This is Phineas. He's a mystical boy. Only eve...</td>\n",
       "      <td>NaN</td>\n",
       "      <td>NaN</td>\n",
       "      <td>NaN</td>\n",
       "      <td>https://twitter.com/dog_rates/status/892420643...</td>\n",
       "      <td>...</td>\n",
       "      <td>1</td>\n",
       "      <td>orange</td>\n",
       "      <td>0.097049</td>\n",
       "      <td>False</td>\n",
       "      <td>bagel</td>\n",
       "      <td>0.085851</td>\n",
       "      <td>False</td>\n",
       "      <td>banana</td>\n",
       "      <td>0.076110</td>\n",
       "      <td>False</td>\n",
       "    </tr>\n",
       "    <tr>\n",
       "      <th>1</th>\n",
       "      <td>892177421306343426</td>\n",
       "      <td>NaN</td>\n",
       "      <td>NaN</td>\n",
       "      <td>2017-08-01 00:17:27 +0000</td>\n",
       "      <td>&lt;a href=\"http://twitter.com/download/iphone\" r...</td>\n",
       "      <td>This is Tilly. She's just checking pup on you....</td>\n",
       "      <td>NaN</td>\n",
       "      <td>NaN</td>\n",
       "      <td>NaN</td>\n",
       "      <td>https://twitter.com/dog_rates/status/892177421...</td>\n",
       "      <td>...</td>\n",
       "      <td>1</td>\n",
       "      <td>Chihuahua</td>\n",
       "      <td>0.323581</td>\n",
       "      <td>True</td>\n",
       "      <td>Pekinese</td>\n",
       "      <td>0.090647</td>\n",
       "      <td>True</td>\n",
       "      <td>papillon</td>\n",
       "      <td>0.068957</td>\n",
       "      <td>True</td>\n",
       "    </tr>\n",
       "    <tr>\n",
       "      <th>2</th>\n",
       "      <td>891815181378084864</td>\n",
       "      <td>NaN</td>\n",
       "      <td>NaN</td>\n",
       "      <td>2017-07-31 00:18:03 +0000</td>\n",
       "      <td>&lt;a href=\"http://twitter.com/download/iphone\" r...</td>\n",
       "      <td>This is Archie. He is a rare Norwegian Pouncin...</td>\n",
       "      <td>NaN</td>\n",
       "      <td>NaN</td>\n",
       "      <td>NaN</td>\n",
       "      <td>https://twitter.com/dog_rates/status/891815181...</td>\n",
       "      <td>...</td>\n",
       "      <td>1</td>\n",
       "      <td>Chihuahua</td>\n",
       "      <td>0.716012</td>\n",
       "      <td>True</td>\n",
       "      <td>malamute</td>\n",
       "      <td>0.078253</td>\n",
       "      <td>True</td>\n",
       "      <td>kelpie</td>\n",
       "      <td>0.031379</td>\n",
       "      <td>True</td>\n",
       "    </tr>\n",
       "    <tr>\n",
       "      <th>3</th>\n",
       "      <td>891689557279858688</td>\n",
       "      <td>NaN</td>\n",
       "      <td>NaN</td>\n",
       "      <td>2017-07-30 15:58:51 +0000</td>\n",
       "      <td>&lt;a href=\"http://twitter.com/download/iphone\" r...</td>\n",
       "      <td>This is Darla. She commenced a snooze mid meal...</td>\n",
       "      <td>NaN</td>\n",
       "      <td>NaN</td>\n",
       "      <td>NaN</td>\n",
       "      <td>https://twitter.com/dog_rates/status/891689557...</td>\n",
       "      <td>...</td>\n",
       "      <td>1</td>\n",
       "      <td>paper_towel</td>\n",
       "      <td>0.170278</td>\n",
       "      <td>False</td>\n",
       "      <td>Labrador_retriever</td>\n",
       "      <td>0.168086</td>\n",
       "      <td>True</td>\n",
       "      <td>spatula</td>\n",
       "      <td>0.040836</td>\n",
       "      <td>False</td>\n",
       "    </tr>\n",
       "    <tr>\n",
       "      <th>4</th>\n",
       "      <td>891327558926688256</td>\n",
       "      <td>NaN</td>\n",
       "      <td>NaN</td>\n",
       "      <td>2017-07-29 16:00:24 +0000</td>\n",
       "      <td>&lt;a href=\"http://twitter.com/download/iphone\" r...</td>\n",
       "      <td>This is Franklin. He would like you to stop ca...</td>\n",
       "      <td>NaN</td>\n",
       "      <td>NaN</td>\n",
       "      <td>NaN</td>\n",
       "      <td>https://twitter.com/dog_rates/status/891327558...</td>\n",
       "      <td>...</td>\n",
       "      <td>2</td>\n",
       "      <td>basset</td>\n",
       "      <td>0.555712</td>\n",
       "      <td>True</td>\n",
       "      <td>English_springer</td>\n",
       "      <td>0.225770</td>\n",
       "      <td>True</td>\n",
       "      <td>German_short-haired_pointer</td>\n",
       "      <td>0.175219</td>\n",
       "      <td>True</td>\n",
       "    </tr>\n",
       "    <tr>\n",
       "      <th>...</th>\n",
       "      <td>...</td>\n",
       "      <td>...</td>\n",
       "      <td>...</td>\n",
       "      <td>...</td>\n",
       "      <td>...</td>\n",
       "      <td>...</td>\n",
       "      <td>...</td>\n",
       "      <td>...</td>\n",
       "      <td>...</td>\n",
       "      <td>...</td>\n",
       "      <td>...</td>\n",
       "      <td>...</td>\n",
       "      <td>...</td>\n",
       "      <td>...</td>\n",
       "      <td>...</td>\n",
       "      <td>...</td>\n",
       "      <td>...</td>\n",
       "      <td>...</td>\n",
       "      <td>...</td>\n",
       "      <td>...</td>\n",
       "      <td>...</td>\n",
       "    </tr>\n",
       "    <tr>\n",
       "      <th>2068</th>\n",
       "      <td>666049248165822465</td>\n",
       "      <td>NaN</td>\n",
       "      <td>NaN</td>\n",
       "      <td>2015-11-16 00:24:50 +0000</td>\n",
       "      <td>&lt;a href=\"http://twitter.com/download/iphone\" r...</td>\n",
       "      <td>Here we have a 1949 1st generation vulpix. Enj...</td>\n",
       "      <td>NaN</td>\n",
       "      <td>NaN</td>\n",
       "      <td>NaN</td>\n",
       "      <td>https://twitter.com/dog_rates/status/666049248...</td>\n",
       "      <td>...</td>\n",
       "      <td>1</td>\n",
       "      <td>miniature_pinscher</td>\n",
       "      <td>0.560311</td>\n",
       "      <td>True</td>\n",
       "      <td>Rottweiler</td>\n",
       "      <td>0.243682</td>\n",
       "      <td>True</td>\n",
       "      <td>Doberman</td>\n",
       "      <td>0.154629</td>\n",
       "      <td>True</td>\n",
       "    </tr>\n",
       "    <tr>\n",
       "      <th>2069</th>\n",
       "      <td>666044226329800704</td>\n",
       "      <td>NaN</td>\n",
       "      <td>NaN</td>\n",
       "      <td>2015-11-16 00:04:52 +0000</td>\n",
       "      <td>&lt;a href=\"http://twitter.com/download/iphone\" r...</td>\n",
       "      <td>This is a purebred Piers Morgan. Loves to Netf...</td>\n",
       "      <td>NaN</td>\n",
       "      <td>NaN</td>\n",
       "      <td>NaN</td>\n",
       "      <td>https://twitter.com/dog_rates/status/666044226...</td>\n",
       "      <td>...</td>\n",
       "      <td>1</td>\n",
       "      <td>Rhodesian_ridgeback</td>\n",
       "      <td>0.408143</td>\n",
       "      <td>True</td>\n",
       "      <td>redbone</td>\n",
       "      <td>0.360687</td>\n",
       "      <td>True</td>\n",
       "      <td>miniature_pinscher</td>\n",
       "      <td>0.222752</td>\n",
       "      <td>True</td>\n",
       "    </tr>\n",
       "    <tr>\n",
       "      <th>2070</th>\n",
       "      <td>666033412701032449</td>\n",
       "      <td>NaN</td>\n",
       "      <td>NaN</td>\n",
       "      <td>2015-11-15 23:21:54 +0000</td>\n",
       "      <td>&lt;a href=\"http://twitter.com/download/iphone\" r...</td>\n",
       "      <td>Here is a very happy pup. Big fan of well-main...</td>\n",
       "      <td>NaN</td>\n",
       "      <td>NaN</td>\n",
       "      <td>NaN</td>\n",
       "      <td>https://twitter.com/dog_rates/status/666033412...</td>\n",
       "      <td>...</td>\n",
       "      <td>1</td>\n",
       "      <td>German_shepherd</td>\n",
       "      <td>0.596461</td>\n",
       "      <td>True</td>\n",
       "      <td>malinois</td>\n",
       "      <td>0.138584</td>\n",
       "      <td>True</td>\n",
       "      <td>bloodhound</td>\n",
       "      <td>0.116197</td>\n",
       "      <td>True</td>\n",
       "    </tr>\n",
       "    <tr>\n",
       "      <th>2071</th>\n",
       "      <td>666029285002620928</td>\n",
       "      <td>NaN</td>\n",
       "      <td>NaN</td>\n",
       "      <td>2015-11-15 23:05:30 +0000</td>\n",
       "      <td>&lt;a href=\"http://twitter.com/download/iphone\" r...</td>\n",
       "      <td>This is a western brown Mitsubishi terrier. Up...</td>\n",
       "      <td>NaN</td>\n",
       "      <td>NaN</td>\n",
       "      <td>NaN</td>\n",
       "      <td>https://twitter.com/dog_rates/status/666029285...</td>\n",
       "      <td>...</td>\n",
       "      <td>1</td>\n",
       "      <td>redbone</td>\n",
       "      <td>0.506826</td>\n",
       "      <td>True</td>\n",
       "      <td>miniature_pinscher</td>\n",
       "      <td>0.074192</td>\n",
       "      <td>True</td>\n",
       "      <td>Rhodesian_ridgeback</td>\n",
       "      <td>0.072010</td>\n",
       "      <td>True</td>\n",
       "    </tr>\n",
       "    <tr>\n",
       "      <th>2072</th>\n",
       "      <td>666020888022790149</td>\n",
       "      <td>NaN</td>\n",
       "      <td>NaN</td>\n",
       "      <td>2015-11-15 22:32:08 +0000</td>\n",
       "      <td>&lt;a href=\"http://twitter.com/download/iphone\" r...</td>\n",
       "      <td>Here we have a Japanese Irish Setter. Lost eye...</td>\n",
       "      <td>NaN</td>\n",
       "      <td>NaN</td>\n",
       "      <td>NaN</td>\n",
       "      <td>https://twitter.com/dog_rates/status/666020888...</td>\n",
       "      <td>...</td>\n",
       "      <td>1</td>\n",
       "      <td>Welsh_springer_spaniel</td>\n",
       "      <td>0.465074</td>\n",
       "      <td>True</td>\n",
       "      <td>collie</td>\n",
       "      <td>0.156665</td>\n",
       "      <td>True</td>\n",
       "      <td>Shetland_sheepdog</td>\n",
       "      <td>0.061428</td>\n",
       "      <td>True</td>\n",
       "    </tr>\n",
       "  </tbody>\n",
       "</table>\n",
       "<p>2073 rows × 35 columns</p>\n",
       "</div>"
      ],
      "text/plain": [
       "                tweet_id  in_reply_to_status_id  in_reply_to_user_id  \\\n",
       "0     892420643555336193                    NaN                  NaN   \n",
       "1     892177421306343426                    NaN                  NaN   \n",
       "2     891815181378084864                    NaN                  NaN   \n",
       "3     891689557279858688                    NaN                  NaN   \n",
       "4     891327558926688256                    NaN                  NaN   \n",
       "...                  ...                    ...                  ...   \n",
       "2068  666049248165822465                    NaN                  NaN   \n",
       "2069  666044226329800704                    NaN                  NaN   \n",
       "2070  666033412701032449                    NaN                  NaN   \n",
       "2071  666029285002620928                    NaN                  NaN   \n",
       "2072  666020888022790149                    NaN                  NaN   \n",
       "\n",
       "                      timestamp  \\\n",
       "0     2017-08-01 16:23:56 +0000   \n",
       "1     2017-08-01 00:17:27 +0000   \n",
       "2     2017-07-31 00:18:03 +0000   \n",
       "3     2017-07-30 15:58:51 +0000   \n",
       "4     2017-07-29 16:00:24 +0000   \n",
       "...                         ...   \n",
       "2068  2015-11-16 00:24:50 +0000   \n",
       "2069  2015-11-16 00:04:52 +0000   \n",
       "2070  2015-11-15 23:21:54 +0000   \n",
       "2071  2015-11-15 23:05:30 +0000   \n",
       "2072  2015-11-15 22:32:08 +0000   \n",
       "\n",
       "                                                 source  \\\n",
       "0     <a href=\"http://twitter.com/download/iphone\" r...   \n",
       "1     <a href=\"http://twitter.com/download/iphone\" r...   \n",
       "2     <a href=\"http://twitter.com/download/iphone\" r...   \n",
       "3     <a href=\"http://twitter.com/download/iphone\" r...   \n",
       "4     <a href=\"http://twitter.com/download/iphone\" r...   \n",
       "...                                                 ...   \n",
       "2068  <a href=\"http://twitter.com/download/iphone\" r...   \n",
       "2069  <a href=\"http://twitter.com/download/iphone\" r...   \n",
       "2070  <a href=\"http://twitter.com/download/iphone\" r...   \n",
       "2071  <a href=\"http://twitter.com/download/iphone\" r...   \n",
       "2072  <a href=\"http://twitter.com/download/iphone\" r...   \n",
       "\n",
       "                                                   text  retweeted_status_id  \\\n",
       "0     This is Phineas. He's a mystical boy. Only eve...                  NaN   \n",
       "1     This is Tilly. She's just checking pup on you....                  NaN   \n",
       "2     This is Archie. He is a rare Norwegian Pouncin...                  NaN   \n",
       "3     This is Darla. She commenced a snooze mid meal...                  NaN   \n",
       "4     This is Franklin. He would like you to stop ca...                  NaN   \n",
       "...                                                 ...                  ...   \n",
       "2068  Here we have a 1949 1st generation vulpix. Enj...                  NaN   \n",
       "2069  This is a purebred Piers Morgan. Loves to Netf...                  NaN   \n",
       "2070  Here is a very happy pup. Big fan of well-main...                  NaN   \n",
       "2071  This is a western brown Mitsubishi terrier. Up...                  NaN   \n",
       "2072  Here we have a Japanese Irish Setter. Lost eye...                  NaN   \n",
       "\n",
       "      retweeted_status_user_id retweeted_status_timestamp  \\\n",
       "0                          NaN                        NaN   \n",
       "1                          NaN                        NaN   \n",
       "2                          NaN                        NaN   \n",
       "3                          NaN                        NaN   \n",
       "4                          NaN                        NaN   \n",
       "...                        ...                        ...   \n",
       "2068                       NaN                        NaN   \n",
       "2069                       NaN                        NaN   \n",
       "2070                       NaN                        NaN   \n",
       "2071                       NaN                        NaN   \n",
       "2072                       NaN                        NaN   \n",
       "\n",
       "                                          expanded_urls  ...  img_num  \\\n",
       "0     https://twitter.com/dog_rates/status/892420643...  ...        1   \n",
       "1     https://twitter.com/dog_rates/status/892177421...  ...        1   \n",
       "2     https://twitter.com/dog_rates/status/891815181...  ...        1   \n",
       "3     https://twitter.com/dog_rates/status/891689557...  ...        1   \n",
       "4     https://twitter.com/dog_rates/status/891327558...  ...        2   \n",
       "...                                                 ...  ...      ...   \n",
       "2068  https://twitter.com/dog_rates/status/666049248...  ...        1   \n",
       "2069  https://twitter.com/dog_rates/status/666044226...  ...        1   \n",
       "2070  https://twitter.com/dog_rates/status/666033412...  ...        1   \n",
       "2071  https://twitter.com/dog_rates/status/666029285...  ...        1   \n",
       "2072  https://twitter.com/dog_rates/status/666020888...  ...        1   \n",
       "\n",
       "                          p1   p1_conf p1_dog                  p2   p2_conf  \\\n",
       "0                     orange  0.097049  False               bagel  0.085851   \n",
       "1                  Chihuahua  0.323581   True            Pekinese  0.090647   \n",
       "2                  Chihuahua  0.716012   True            malamute  0.078253   \n",
       "3                paper_towel  0.170278  False  Labrador_retriever  0.168086   \n",
       "4                     basset  0.555712   True    English_springer  0.225770   \n",
       "...                      ...       ...    ...                 ...       ...   \n",
       "2068      miniature_pinscher  0.560311   True          Rottweiler  0.243682   \n",
       "2069     Rhodesian_ridgeback  0.408143   True             redbone  0.360687   \n",
       "2070         German_shepherd  0.596461   True            malinois  0.138584   \n",
       "2071                 redbone  0.506826   True  miniature_pinscher  0.074192   \n",
       "2072  Welsh_springer_spaniel  0.465074   True              collie  0.156665   \n",
       "\n",
       "     p2_dog                           p3   p3_conf p3_dog  \n",
       "0     False                       banana  0.076110  False  \n",
       "1      True                     papillon  0.068957   True  \n",
       "2      True                       kelpie  0.031379   True  \n",
       "3      True                      spatula  0.040836  False  \n",
       "4      True  German_short-haired_pointer  0.175219   True  \n",
       "...     ...                          ...       ...    ...  \n",
       "2068   True                     Doberman  0.154629   True  \n",
       "2069   True           miniature_pinscher  0.222752   True  \n",
       "2070   True                   bloodhound  0.116197   True  \n",
       "2071   True          Rhodesian_ridgeback  0.072010   True  \n",
       "2072   True            Shetland_sheepdog  0.061428   True  \n",
       "\n",
       "[2073 rows x 35 columns]"
      ]
     },
     "execution_count": 12,
     "metadata": {},
     "output_type": "execute_result"
    }
   ],
   "source": [
    "twitter_archive_clean"
   ]
  },
  {
   "cell_type": "markdown",
   "metadata": {},
   "source": [
    "\n",
    "# define\n",
    "# 2: Clean the content of source column, make it more readable.\n",
    "\n",
    "# code"
   ]
  },
  {
   "cell_type": "code",
   "execution_count": 13,
   "metadata": {},
   "outputs": [],
   "source": [
    "twitter_archive_clean['source'] = twitter_archive_clean['source'].str.extract(r'>(.*)<', expand=False)"
   ]
  },
  {
   "cell_type": "markdown",
   "metadata": {},
   "source": [
    "# test"
   ]
  },
  {
   "cell_type": "code",
   "execution_count": 14,
   "metadata": {},
   "outputs": [
    {
     "data": {
      "text/plain": [
       "Twitter for iPhone    2032\n",
       "Twitter Web Client      30\n",
       "TweetDeck               11\n",
       "Name: source, dtype: int64"
      ]
     },
     "execution_count": 14,
     "metadata": {},
     "output_type": "execute_result"
    }
   ],
   "source": [
    "twitter_archive_clean['source'].value_counts()"
   ]
  },
  {
   "cell_type": "markdown",
   "metadata": {},
   "source": [
    "# define\n",
    "# 3: Refine p1, p2 and p3 columns and confidence \n",
    "# code"
   ]
  },
  {
   "cell_type": "code",
   "execution_count": 15,
   "metadata": {},
   "outputs": [
    {
     "data": {
      "text/plain": [
       "True     1238\n",
       "False     835\n",
       "Name: p1_conf, dtype: int64"
      ]
     },
     "execution_count": 15,
     "metadata": {},
     "output_type": "execute_result"
    }
   ],
   "source": [
    "#most efective \n",
    "(twitter_archive_clean['p1_conf']>= 0.5).value_counts()\n"
   ]
  },
  {
   "cell_type": "markdown",
   "metadata": {},
   "source": [
    "# test"
   ]
  },
  {
   "cell_type": "code",
   "execution_count": 16,
   "metadata": {},
   "outputs": [
    {
     "data": {
      "text/plain": [
       "False    2073\n",
       "Name: p2_conf, dtype: int64"
      ]
     },
     "execution_count": 16,
     "metadata": {},
     "output_type": "execute_result"
    }
   ],
   "source": [
    "#lowest accurecy\n",
    "(twitter_archive_clean['p2_conf']>=  0.5).value_counts()\n"
   ]
  },
  {
   "cell_type": "code",
   "execution_count": 17,
   "metadata": {},
   "outputs": [
    {
     "data": {
      "text/plain": [
       "False    2073\n",
       "Name: p3_conf, dtype: int64"
      ]
     },
     "execution_count": 17,
     "metadata": {},
     "output_type": "execute_result"
    }
   ],
   "source": [
    "#lowest accurecy\n",
    "\n",
    "(twitter_archive_clean['p3_conf']>=  0.5).value_counts()"
   ]
  },
  {
   "cell_type": "code",
   "execution_count": 18,
   "metadata": {},
   "outputs": [
    {
     "data": {
      "text/plain": [
       "1    1779\n",
       "2     197\n",
       "3      66\n",
       "4      31\n",
       "Name: img_num, dtype: int64"
      ]
     },
     "execution_count": 18,
     "metadata": {},
     "output_type": "execute_result"
    }
   ],
   "source": [
    "twitter_archive_clean['img_num'].value_counts()"
   ]
  },
  {
   "cell_type": "markdown",
   "metadata": {},
   "source": [
    "# define\n",
    "#  as  the probapility of p2_conf and p3_conf both is lower than 0.5 we will drop theses unuesful coulums \n",
    "# code"
   ]
  },
  {
   "cell_type": "code",
   "execution_count": 19,
   "metadata": {},
   "outputs": [],
   "source": [
    "twitter_archive_clean = twitter_archive_clean.drop(['p2', 'p2_conf', 'p2_dog', 'p3', 'p3_conf', 'p3_dog'], 1)"
   ]
  },
  {
   "cell_type": "markdown",
   "metadata": {},
   "source": [
    "# test"
   ]
  },
  {
   "cell_type": "code",
   "execution_count": 20,
   "metadata": {},
   "outputs": [
    {
     "name": "stdout",
     "output_type": "stream",
     "text": [
      "<class 'pandas.core.frame.DataFrame'>\n",
      "Int64Index: 2073 entries, 0 to 2072\n",
      "Data columns (total 29 columns):\n",
      " #   Column                      Non-Null Count  Dtype              \n",
      "---  ------                      --------------  -----              \n",
      " 0   tweet_id                    2073 non-null   int64              \n",
      " 1   in_reply_to_status_id       23 non-null     float64            \n",
      " 2   in_reply_to_user_id         23 non-null     float64            \n",
      " 3   timestamp                   2073 non-null   object             \n",
      " 4   source                      2073 non-null   object             \n",
      " 5   text                        2073 non-null   object             \n",
      " 6   retweeted_status_id         79 non-null     float64            \n",
      " 7   retweeted_status_user_id    79 non-null     float64            \n",
      " 8   retweeted_status_timestamp  79 non-null     object             \n",
      " 9   expanded_urls               2073 non-null   object             \n",
      " 10  rating_numerator            2073 non-null   int64              \n",
      " 11  rating_denominator          2073 non-null   int64              \n",
      " 12  name                        2073 non-null   object             \n",
      " 13  doggo                       2073 non-null   object             \n",
      " 14  floofer                     2073 non-null   object             \n",
      " 15  pupper                      2073 non-null   object             \n",
      " 16  puppo                       2073 non-null   object             \n",
      " 17  tweet_retweet_count         2073 non-null   int64              \n",
      " 18  tweet_favorite_count        2073 non-null   int64              \n",
      " 19  created_at                  2073 non-null   datetime64[ns, UTC]\n",
      " 20  full_text                   2073 non-null   object             \n",
      " 21  user_followers_count        2073 non-null   int64              \n",
      " 22  user_friends_count          2073 non-null   int64              \n",
      " 23  user_favourites_count       2073 non-null   int64              \n",
      " 24  jpg_url                     2073 non-null   object             \n",
      " 25  img_num                     2073 non-null   int64              \n",
      " 26  p1                          2073 non-null   object             \n",
      " 27  p1_conf                     2073 non-null   float64            \n",
      " 28  p1_dog                      2073 non-null   bool               \n",
      "dtypes: bool(1), datetime64[ns, UTC](1), float64(5), int64(9), object(13)\n",
      "memory usage: 471.7+ KB\n"
     ]
    }
   ],
   "source": [
    "\n",
    "twitter_archive_clean.info()"
   ]
  },
  {
   "cell_type": "markdown",
   "metadata": {},
   "source": [
    "# define\n",
    "# 4-rename p1  , p1_dog and p1-conf makes it readable \n",
    "# code"
   ]
  },
  {
   "cell_type": "code",
   "execution_count": 21,
   "metadata": {},
   "outputs": [],
   "source": [
    "twitter_archive_clean.rename(columns = {\"p1\":\"prediction\"},inplace =True)\n",
    "twitter_archive_clean.rename(columns = {\"p1_conf\":\"confidence\"},inplace =True)\n",
    "twitter_archive_clean.rename(columns = {\"p1_dog\":\"is_prediction_dog\"},inplace =True)\n"
   ]
  },
  {
   "cell_type": "markdown",
   "metadata": {},
   "source": [
    "# test"
   ]
  },
  {
   "cell_type": "code",
   "execution_count": 22,
   "metadata": {},
   "outputs": [
    {
     "name": "stdout",
     "output_type": "stream",
     "text": [
      "<class 'pandas.core.frame.DataFrame'>\n",
      "Int64Index: 2073 entries, 0 to 2072\n",
      "Data columns (total 29 columns):\n",
      " #   Column                      Non-Null Count  Dtype              \n",
      "---  ------                      --------------  -----              \n",
      " 0   tweet_id                    2073 non-null   int64              \n",
      " 1   in_reply_to_status_id       23 non-null     float64            \n",
      " 2   in_reply_to_user_id         23 non-null     float64            \n",
      " 3   timestamp                   2073 non-null   object             \n",
      " 4   source                      2073 non-null   object             \n",
      " 5   text                        2073 non-null   object             \n",
      " 6   retweeted_status_id         79 non-null     float64            \n",
      " 7   retweeted_status_user_id    79 non-null     float64            \n",
      " 8   retweeted_status_timestamp  79 non-null     object             \n",
      " 9   expanded_urls               2073 non-null   object             \n",
      " 10  rating_numerator            2073 non-null   int64              \n",
      " 11  rating_denominator          2073 non-null   int64              \n",
      " 12  name                        2073 non-null   object             \n",
      " 13  doggo                       2073 non-null   object             \n",
      " 14  floofer                     2073 non-null   object             \n",
      " 15  pupper                      2073 non-null   object             \n",
      " 16  puppo                       2073 non-null   object             \n",
      " 17  tweet_retweet_count         2073 non-null   int64              \n",
      " 18  tweet_favorite_count        2073 non-null   int64              \n",
      " 19  created_at                  2073 non-null   datetime64[ns, UTC]\n",
      " 20  full_text                   2073 non-null   object             \n",
      " 21  user_followers_count        2073 non-null   int64              \n",
      " 22  user_friends_count          2073 non-null   int64              \n",
      " 23  user_favourites_count       2073 non-null   int64              \n",
      " 24  jpg_url                     2073 non-null   object             \n",
      " 25  img_num                     2073 non-null   int64              \n",
      " 26  prediction                  2073 non-null   object             \n",
      " 27  confidence                  2073 non-null   float64            \n",
      " 28  is_prediction_dog           2073 non-null   bool               \n",
      "dtypes: bool(1), datetime64[ns, UTC](1), float64(5), int64(9), object(13)\n",
      "memory usage: 471.7+ KB\n"
     ]
    }
   ],
   "source": [
    "twitter_archive_clean.info()"
   ]
  },
  {
   "cell_type": "markdown",
   "metadata": {},
   "source": [
    "# define\n",
    "# 5- remove retweet-related columns after removing rows with retweets as theese colums become empty, drop unusefull columns (in_reply_to_status_id), (in_reply_to_user_id ),(retweeted_status_timestamp) ,(retweeted_status_user_id), (retweeted_status_id)\n",
    "# code"
   ]
  },
  {
   "cell_type": "code",
   "execution_count": 23,
   "metadata": {
    "scrolled": false
   },
   "outputs": [],
   "source": [
    "twitter_archive_clean = twitter_archive_clean[twitter_archive_clean.retweeted_status_id.isnull()]\n",
    "twitter_archive_clean = twitter_archive_clean[twitter_archive_clean.retweeted_status_user_id.isnull()]\n",
    "twitter_archive_clean = twitter_archive_clean[twitter_archive_clean.retweeted_status_timestamp.isnull()]\n",
    "twitter_archive_clean = twitter_archive_clean.drop(['in_reply_to_user_id','in_reply_to_status_id','retweeted_status_id','retweeted_status_user_id','retweeted_status_timestamp'], 1)\n"
   ]
  },
  {
   "cell_type": "markdown",
   "metadata": {},
   "source": [
    "# test"
   ]
  },
  {
   "cell_type": "code",
   "execution_count": 24,
   "metadata": {},
   "outputs": [
    {
     "name": "stdout",
     "output_type": "stream",
     "text": [
      "<class 'pandas.core.frame.DataFrame'>\n",
      "Int64Index: 1994 entries, 0 to 2072\n",
      "Data columns (total 24 columns):\n",
      " #   Column                 Non-Null Count  Dtype              \n",
      "---  ------                 --------------  -----              \n",
      " 0   tweet_id               1994 non-null   int64              \n",
      " 1   timestamp              1994 non-null   object             \n",
      " 2   source                 1994 non-null   object             \n",
      " 3   text                   1994 non-null   object             \n",
      " 4   expanded_urls          1994 non-null   object             \n",
      " 5   rating_numerator       1994 non-null   int64              \n",
      " 6   rating_denominator     1994 non-null   int64              \n",
      " 7   name                   1994 non-null   object             \n",
      " 8   doggo                  1994 non-null   object             \n",
      " 9   floofer                1994 non-null   object             \n",
      " 10  pupper                 1994 non-null   object             \n",
      " 11  puppo                  1994 non-null   object             \n",
      " 12  tweet_retweet_count    1994 non-null   int64              \n",
      " 13  tweet_favorite_count   1994 non-null   int64              \n",
      " 14  created_at             1994 non-null   datetime64[ns, UTC]\n",
      " 15  full_text              1994 non-null   object             \n",
      " 16  user_followers_count   1994 non-null   int64              \n",
      " 17  user_friends_count     1994 non-null   int64              \n",
      " 18  user_favourites_count  1994 non-null   int64              \n",
      " 19  jpg_url                1994 non-null   object             \n",
      " 20  img_num                1994 non-null   int64              \n",
      " 21  prediction             1994 non-null   object             \n",
      " 22  confidence             1994 non-null   float64            \n",
      " 23  is_prediction_dog      1994 non-null   bool               \n",
      "dtypes: bool(1), datetime64[ns, UTC](1), float64(1), int64(9), object(12)\n",
      "memory usage: 375.8+ KB\n"
     ]
    }
   ],
   "source": [
    "twitter_archive_clean.info()"
   ]
  },
  {
   "cell_type": "markdown",
   "metadata": {},
   "source": [
    "# define\n",
    "# 6-melting the 'doggo', 'floofer', 'pupper' and 'puppo' columns into one column life_stage."
   ]
  },
  {
   "cell_type": "code",
   "execution_count": 25,
   "metadata": {},
   "outputs": [
    {
     "data": {
      "text/plain": [
       "None     1920\n",
       "doggo      74\n",
       "Name: doggo, dtype: int64"
      ]
     },
     "execution_count": 25,
     "metadata": {},
     "output_type": "execute_result"
    }
   ],
   "source": [
    "twitter_archive_clean[ 'doggo'].value_counts()"
   ]
  },
  {
   "cell_type": "code",
   "execution_count": null,
   "metadata": {},
   "outputs": [],
   "source": []
  },
  {
   "cell_type": "code",
   "execution_count": 26,
   "metadata": {},
   "outputs": [
    {
     "data": {
      "text/plain": [
       "None       1986\n",
       "floofer       8\n",
       "Name: floofer, dtype: int64"
      ]
     },
     "execution_count": 26,
     "metadata": {},
     "output_type": "execute_result"
    }
   ],
   "source": [
    "twitter_archive_clean[ 'floofer'].value_counts()"
   ]
  },
  {
   "cell_type": "code",
   "execution_count": 27,
   "metadata": {},
   "outputs": [
    {
     "data": {
      "text/plain": [
       "None      1782\n",
       "pupper     212\n",
       "Name: pupper, dtype: int64"
      ]
     },
     "execution_count": 27,
     "metadata": {},
     "output_type": "execute_result"
    }
   ],
   "source": [
    "twitter_archive_clean[ 'pupper'].value_counts()"
   ]
  },
  {
   "cell_type": "code",
   "execution_count": 28,
   "metadata": {},
   "outputs": [
    {
     "data": {
      "text/plain": [
       "None     1971\n",
       "puppo      23\n",
       "Name: puppo, dtype: int64"
      ]
     },
     "execution_count": 28,
     "metadata": {},
     "output_type": "execute_result"
    }
   ],
   "source": [
    "twitter_archive_clean[ 'puppo'].value_counts()"
   ]
  },
  {
   "cell_type": "markdown",
   "metadata": {},
   "source": [
    "# code "
   ]
  },
  {
   "cell_type": "code",
   "execution_count": 29,
   "metadata": {},
   "outputs": [],
   "source": [
    "dog_type = ['doggo', 'floofer', 'pupper', 'puppo']\n",
    "# Melt the the columns into values\n",
    "all_columns_list = twitter_archive_clean.columns.tolist()\n",
    "del all_columns_list[8:12]\n",
    "twitter_archive_clean  = pd.melt(twitter_archive_clean, id_vars = all_columns_list, value_vars = dog_type, \n",
    "                         var_name = 'all_life_stages', value_name = 'dog_stage_of_life')\n",
    "\n",
    "twitter_archive_clean = twitter_archive_clean.drop(['all_life_stages'],1)"
   ]
  },
  {
   "cell_type": "markdown",
   "metadata": {},
   "source": [
    "# test"
   ]
  },
  {
   "cell_type": "code",
   "execution_count": 30,
   "metadata": {},
   "outputs": [
    {
     "name": "stdout",
     "output_type": "stream",
     "text": [
      "<class 'pandas.core.frame.DataFrame'>\n",
      "RangeIndex: 7976 entries, 0 to 7975\n",
      "Data columns (total 21 columns):\n",
      " #   Column                 Non-Null Count  Dtype              \n",
      "---  ------                 --------------  -----              \n",
      " 0   tweet_id               7976 non-null   int64              \n",
      " 1   timestamp              7976 non-null   object             \n",
      " 2   source                 7976 non-null   object             \n",
      " 3   text                   7976 non-null   object             \n",
      " 4   expanded_urls          7976 non-null   object             \n",
      " 5   rating_numerator       7976 non-null   int64              \n",
      " 6   rating_denominator     7976 non-null   int64              \n",
      " 7   name                   7976 non-null   object             \n",
      " 8   tweet_retweet_count    7976 non-null   int64              \n",
      " 9   tweet_favorite_count   7976 non-null   int64              \n",
      " 10  created_at             7976 non-null   datetime64[ns, UTC]\n",
      " 11  full_text              7976 non-null   object             \n",
      " 12  user_followers_count   7976 non-null   int64              \n",
      " 13  user_friends_count     7976 non-null   int64              \n",
      " 14  user_favourites_count  7976 non-null   int64              \n",
      " 15  jpg_url                7976 non-null   object             \n",
      " 16  img_num                7976 non-null   int64              \n",
      " 17  prediction             7976 non-null   object             \n",
      " 18  confidence             7976 non-null   float64            \n",
      " 19  is_prediction_dog      7976 non-null   bool               \n",
      " 20  dog_stage_of_life      7976 non-null   object             \n",
      "dtypes: bool(1), datetime64[ns, UTC](1), float64(1), int64(9), object(9)\n",
      "memory usage: 1.2+ MB\n"
     ]
    }
   ],
   "source": [
    "twitter_archive_clean.info()"
   ]
  },
  {
   "cell_type": "markdown",
   "metadata": {},
   "source": [
    "# define \n",
    "# 7:  dropping duplicates  columns refar to datatime (created_at  ,timestamp  which is object not in a good format .\n",
    "# code"
   ]
  },
  {
   "cell_type": "code",
   "execution_count": 31,
   "metadata": {},
   "outputs": [],
   "source": [
    "\n",
    "# change timestamp format which is object not in a good format to datatime\n",
    "twitter_archive_clean['timestamp'] =  pd.to_datetime(twitter_archive_clean['timestamp'] , format='%Y-%m-%d %H:%M:%S')\n",
    "# drop datatime as dublicated\n",
    "twitter_archive_clean = twitter_archive_clean.drop(['timestamp'],1)"
   ]
  },
  {
   "cell_type": "markdown",
   "metadata": {},
   "source": [
    "# test"
   ]
  },
  {
   "cell_type": "code",
   "execution_count": 32,
   "metadata": {},
   "outputs": [
    {
     "name": "stdout",
     "output_type": "stream",
     "text": [
      "<class 'pandas.core.frame.DataFrame'>\n",
      "RangeIndex: 7976 entries, 0 to 7975\n",
      "Data columns (total 20 columns):\n",
      " #   Column                 Non-Null Count  Dtype              \n",
      "---  ------                 --------------  -----              \n",
      " 0   tweet_id               7976 non-null   int64              \n",
      " 1   source                 7976 non-null   object             \n",
      " 2   text                   7976 non-null   object             \n",
      " 3   expanded_urls          7976 non-null   object             \n",
      " 4   rating_numerator       7976 non-null   int64              \n",
      " 5   rating_denominator     7976 non-null   int64              \n",
      " 6   name                   7976 non-null   object             \n",
      " 7   tweet_retweet_count    7976 non-null   int64              \n",
      " 8   tweet_favorite_count   7976 non-null   int64              \n",
      " 9   created_at             7976 non-null   datetime64[ns, UTC]\n",
      " 10  full_text              7976 non-null   object             \n",
      " 11  user_followers_count   7976 non-null   int64              \n",
      " 12  user_friends_count     7976 non-null   int64              \n",
      " 13  user_favourites_count  7976 non-null   int64              \n",
      " 14  jpg_url                7976 non-null   object             \n",
      " 15  img_num                7976 non-null   int64              \n",
      " 16  prediction             7976 non-null   object             \n",
      " 17  confidence             7976 non-null   float64            \n",
      " 18  is_prediction_dog      7976 non-null   bool               \n",
      " 19  dog_stage_of_life      7976 non-null   object             \n",
      "dtypes: bool(1), datetime64[ns, UTC](1), float64(1), int64(9), object(8)\n",
      "memory usage: 1.2+ MB\n"
     ]
    }
   ],
   "source": [
    "twitter_archive_clean.info()\n"
   ]
  },
  {
   "cell_type": "markdown",
   "metadata": {},
   "source": [
    "# define\n",
    "# 8: check and Delete duplicated tweet_id\n",
    "# code"
   ]
  },
  {
   "cell_type": "code",
   "execution_count": 33,
   "metadata": {},
   "outputs": [
    {
     "data": {
      "text/plain": [
       "True     5665\n",
       "False    2311\n",
       "dtype: int64"
      ]
     },
     "execution_count": 33,
     "metadata": {},
     "output_type": "execute_result"
    }
   ],
   "source": [
    "#check duplicated tweet_id\n",
    "(twitter_archive_clean.duplicated()).value_counts()"
   ]
  },
  {
   "cell_type": "code",
   "execution_count": 34,
   "metadata": {},
   "outputs": [],
   "source": [
    "#Delete duplicated tweet_id\n",
    "twitter_archive_clean = twitter_archive_clean.drop_duplicates()"
   ]
  },
  {
   "cell_type": "code",
   "execution_count": 35,
   "metadata": {},
   "outputs": [
    {
     "data": {
      "text/plain": [
       "False    2311\n",
       "dtype: int64"
      ]
     },
     "execution_count": 35,
     "metadata": {},
     "output_type": "execute_result"
    }
   ],
   "source": [
    "#check duplicated tweet_id \n",
    "(twitter_archive_clean.duplicated()).value_counts()"
   ]
  },
  {
   "cell_type": "markdown",
   "metadata": {},
   "source": [
    "# test"
   ]
  },
  {
   "cell_type": "code",
   "execution_count": 36,
   "metadata": {},
   "outputs": [
    {
     "name": "stdout",
     "output_type": "stream",
     "text": [
      "<class 'pandas.core.frame.DataFrame'>\n",
      "Int64Index: 2311 entries, 0 to 6795\n",
      "Data columns (total 20 columns):\n",
      " #   Column                 Non-Null Count  Dtype              \n",
      "---  ------                 --------------  -----              \n",
      " 0   tweet_id               2311 non-null   int64              \n",
      " 1   source                 2311 non-null   object             \n",
      " 2   text                   2311 non-null   object             \n",
      " 3   expanded_urls          2311 non-null   object             \n",
      " 4   rating_numerator       2311 non-null   int64              \n",
      " 5   rating_denominator     2311 non-null   int64              \n",
      " 6   name                   2311 non-null   object             \n",
      " 7   tweet_retweet_count    2311 non-null   int64              \n",
      " 8   tweet_favorite_count   2311 non-null   int64              \n",
      " 9   created_at             2311 non-null   datetime64[ns, UTC]\n",
      " 10  full_text              2311 non-null   object             \n",
      " 11  user_followers_count   2311 non-null   int64              \n",
      " 12  user_friends_count     2311 non-null   int64              \n",
      " 13  user_favourites_count  2311 non-null   int64              \n",
      " 14  jpg_url                2311 non-null   object             \n",
      " 15  img_num                2311 non-null   int64              \n",
      " 16  prediction             2311 non-null   object             \n",
      " 17  confidence             2311 non-null   float64            \n",
      " 18  is_prediction_dog      2311 non-null   bool               \n",
      " 19  dog_stage_of_life      2311 non-null   object             \n",
      "dtypes: bool(1), datetime64[ns, UTC](1), float64(1), int64(9), object(8)\n",
      "memory usage: 363.4+ KB\n"
     ]
    }
   ],
   "source": [
    "twitter_archive_clean.info()\n"
   ]
  },
  {
   "cell_type": "markdown",
   "metadata": {},
   "source": [
    "# define\n",
    "# 9 change any none to NaN\n",
    "# code"
   ]
  },
  {
   "cell_type": "code",
   "execution_count": 37,
   "metadata": {},
   "outputs": [
    {
     "name": "stdout",
     "output_type": "stream",
     "text": [
      "False    2311\n",
      "Name: dog_stage_of_life, dtype: int64\n"
     ]
    }
   ],
   "source": [
    "#CHECK None and convert it to NaN \n",
    "for col in list(twitter_archive_clean):\n",
    "    x= (twitter_archive_clean[col] == None).value_counts()\n",
    "print(x)\n",
    "twitter_archive_clean =  twitter_archive_clean.replace('None', np.nan)"
   ]
  },
  {
   "cell_type": "markdown",
   "metadata": {},
   "source": [
    "# test"
   ]
  },
  {
   "cell_type": "code",
   "execution_count": 38,
   "metadata": {},
   "outputs": [
    {
     "name": "stdout",
     "output_type": "stream",
     "text": [
      "CHECK IF ANY NUBER OF NONE :  False    2311\n",
      "Name: tweet_id, dtype: int64\n",
      "CHECK IF ANY NUBER OF NONE :  False    2311\n",
      "Name: source, dtype: int64\n",
      "CHECK IF ANY NUBER OF NONE :  False    2311\n",
      "Name: text, dtype: int64\n",
      "CHECK IF ANY NUBER OF NONE :  False    2311\n",
      "Name: expanded_urls, dtype: int64\n",
      "CHECK IF ANY NUBER OF NONE :  False    2311\n",
      "Name: rating_numerator, dtype: int64\n",
      "CHECK IF ANY NUBER OF NONE :  False    2311\n",
      "Name: rating_denominator, dtype: int64\n",
      "CHECK IF ANY NUBER OF NONE :  False    2311\n",
      "Name: name, dtype: int64\n",
      "CHECK IF ANY NUBER OF NONE :  False    2311\n",
      "Name: tweet_retweet_count, dtype: int64\n",
      "CHECK IF ANY NUBER OF NONE :  False    2311\n",
      "Name: tweet_favorite_count, dtype: int64\n",
      "CHECK IF ANY NUBER OF NONE :  False    2311\n",
      "Name: created_at, dtype: int64\n",
      "CHECK IF ANY NUBER OF NONE :  False    2311\n",
      "Name: full_text, dtype: int64\n",
      "CHECK IF ANY NUBER OF NONE :  False    2311\n",
      "Name: user_followers_count, dtype: int64\n",
      "CHECK IF ANY NUBER OF NONE :  False    2311\n",
      "Name: user_friends_count, dtype: int64\n",
      "CHECK IF ANY NUBER OF NONE :  False    2311\n",
      "Name: user_favourites_count, dtype: int64\n",
      "CHECK IF ANY NUBER OF NONE :  False    2311\n",
      "Name: jpg_url, dtype: int64\n",
      "CHECK IF ANY NUBER OF NONE :  False    2311\n",
      "Name: img_num, dtype: int64\n",
      "CHECK IF ANY NUBER OF NONE :  False    2311\n",
      "Name: prediction, dtype: int64\n",
      "CHECK IF ANY NUBER OF NONE :  False    2311\n",
      "Name: confidence, dtype: int64\n",
      "CHECK IF ANY NUBER OF NONE :  False    2311\n",
      "Name: is_prediction_dog, dtype: int64\n",
      "CHECK IF ANY NUBER OF NONE :  False    2311\n",
      "Name: dog_stage_of_life, dtype: int64\n"
     ]
    }
   ],
   "source": [
    "#CHECK AGAIN\n",
    "for col in list(twitter_archive_clean):\n",
    "    x= (twitter_archive_clean[col] == None).value_counts()\n",
    "    print(\"CHECK IF ANY NUBER OF NONE : \" ,x)"
   ]
  },
  {
   "cell_type": "code",
   "execution_count": 39,
   "metadata": {},
   "outputs": [
    {
     "data": {
      "text/plain": [
       "tweet_id                    0\n",
       "source                      0\n",
       "text                        0\n",
       "expanded_urls               0\n",
       "rating_numerator            0\n",
       "rating_denominator          0\n",
       "name                      669\n",
       "tweet_retweet_count         0\n",
       "tweet_favorite_count        0\n",
       "created_at                  0\n",
       "full_text                   0\n",
       "user_followers_count        0\n",
       "user_friends_count          0\n",
       "user_favourites_count       0\n",
       "jpg_url                     0\n",
       "img_num                     0\n",
       "prediction                  0\n",
       "confidence                  0\n",
       "is_prediction_dog           0\n",
       "dog_stage_of_life        1994\n",
       "dtype: int64"
      ]
     },
     "execution_count": 39,
     "metadata": {},
     "output_type": "execute_result"
    }
   ],
   "source": [
    "twitter_archive_clean.isnull().sum()"
   ]
  },
  {
   "cell_type": "markdown",
   "metadata": {},
   "source": [
    "# define\n",
    "# 10 ues text extract gthe dog name adds it to new coulme dog_name and drop the column name \n",
    "# code"
   ]
  },
  {
   "cell_type": "code",
   "execution_count": 40,
   "metadata": {},
   "outputs": [
    {
     "data": {
      "text/plain": [
       "\"Say hello to Lassie. She's celebrating #PrideMonth by being a splendid mix of astute and adorable. Proudly supupporting her owner. 13/10 https://t.co/uK6PNyeh9w\""
      ]
     },
     "execution_count": 40,
     "metadata": {},
     "output_type": "execute_result"
    }
   ],
   "source": [
    "twitter_archive_clean['text'][87]\n"
   ]
  },
  {
   "cell_type": "code",
   "execution_count": 41,
   "metadata": {},
   "outputs": [
    {
     "data": {
      "text/plain": [
       "'This is Paisley. She ate a flower just to prove she could. Savage af. 13/10 would pet so well https://t.co/cPq9fYvkzr'"
      ]
     },
     "execution_count": 41,
     "metadata": {},
     "output_type": "execute_result"
    }
   ],
   "source": [
    "twitter_archive_clean['text'][115]"
   ]
  },
  {
   "cell_type": "code",
   "execution_count": 42,
   "metadata": {},
   "outputs": [
    {
     "data": {
      "text/plain": [
       "\"At first I thought this was a shy doggo, but it's actually a Rare Canadian Floofer Owl. Amateurs would confuse the two. 11/10 only send dogs https://t.co/TXdT3tmuYk\""
      ]
     },
     "execution_count": 42,
     "metadata": {},
     "output_type": "execute_result"
    }
   ],
   "source": [
    "twitter_archive_clean['text'][154]"
   ]
  },
  {
   "cell_type": "code",
   "execution_count": 43,
   "metadata": {},
   "outputs": [
    {
     "data": {
      "text/plain": [
       "'Oh boy what a pup! Sunglasses take this one to the next level. Weirdly folds front legs. Pretty big. 6/10 https://t.co/yECbFrSArM'"
      ]
     },
     "execution_count": 43,
     "metadata": {},
     "output_type": "execute_result"
    }
   ],
   "source": [
    "twitter_archive_clean['text'][1960 ]"
   ]
  },
  {
   "cell_type": "code",
   "execution_count": 44,
   "metadata": {},
   "outputs": [],
   "source": [
    "#twitter_archive_clean['name'] = twitter_archive_clean['text'].str.extract(r'(../..)', expand=False)\n",
    "x = twitter_archive_clean['text'].str.extract(r'([\\w]*?\\.)', expand=False)\n",
    "x =x.str.replace('\\.','')\n",
    "x = x.mask(x.str.match(r'^[a-z]+$'))\n",
    "for i in x :\n",
    "    x = x.replace('Dog', 'Zeke')\n",
    "    x = x.replace('Ohboyohboyohboyohboyohboyohboyohboyohboyohboyohboyohboyohboyohboyohboyohboy', np.nan)\n",
    "    x = x.replace('Maximus', np.nan)\n",
    "    x = x.replace('DR', np.nan)\n",
    "    x = x.replace('', np.nan)\n",
    "    x = x.replace('Wow', 'Armored')\n",
    "    x = x.replace('III', 'Kingsley Wellensworth III')\n",
    "    x = x.replace('Well', np.nan)\n",
    "    x = x.replace('K9VeteransDay', np.nan)\n",
    "    x = x.replace('Improvement', np.nan)\n",
    "    x = x.replace('ScienceMarch', np.nan)\n",
    "    x = x.replace('Unbelievable', np.nan)\n",
    "    x = x.replace('We', np.nan)\n",
    "    x = x.replace('HI', np.nan)\n",
    "    x = x.replace('a', np.nan) \n",
    "    x = x.replace('Up', np.nan) \n",
    "    x = x.replace('Islands', np.nan)\n",
    "    x = x.replace('Setter', np.nan)\n",
    "    x = x.replace('2', np.nan)\n",
    "    x = x.replace('10', np.nan)\n",
    "    x = x.replace('130', np.nan)\n",
    "    x = x.replace('37', np.nan)\n",
    "    x = x.replace('(^\\d*)', np.nan)\n",
    "#for i in range(len(x)):\n",
    "    #print(i,x[i])\n",
    "#x.isnull().sum()\n",
    "twitter_archive_clean['dog_name'] = x"
   ]
  },
  {
   "cell_type": "markdown",
   "metadata": {},
   "source": [
    "# test "
   ]
  },
  {
   "cell_type": "code",
   "execution_count": 45,
   "metadata": {},
   "outputs": [
    {
     "data": {
      "text/html": [
       "<div>\n",
       "<style scoped>\n",
       "    .dataframe tbody tr th:only-of-type {\n",
       "        vertical-align: middle;\n",
       "    }\n",
       "\n",
       "    .dataframe tbody tr th {\n",
       "        vertical-align: top;\n",
       "    }\n",
       "\n",
       "    .dataframe thead th {\n",
       "        text-align: right;\n",
       "    }\n",
       "</style>\n",
       "<table border=\"1\" class=\"dataframe\">\n",
       "  <thead>\n",
       "    <tr style=\"text-align: right;\">\n",
       "      <th></th>\n",
       "      <th>tweet_id</th>\n",
       "      <th>source</th>\n",
       "      <th>text</th>\n",
       "      <th>expanded_urls</th>\n",
       "      <th>rating_numerator</th>\n",
       "      <th>rating_denominator</th>\n",
       "      <th>name</th>\n",
       "      <th>tweet_retweet_count</th>\n",
       "      <th>tweet_favorite_count</th>\n",
       "      <th>created_at</th>\n",
       "      <th>...</th>\n",
       "      <th>user_followers_count</th>\n",
       "      <th>user_friends_count</th>\n",
       "      <th>user_favourites_count</th>\n",
       "      <th>jpg_url</th>\n",
       "      <th>img_num</th>\n",
       "      <th>prediction</th>\n",
       "      <th>confidence</th>\n",
       "      <th>is_prediction_dog</th>\n",
       "      <th>dog_stage_of_life</th>\n",
       "      <th>dog_name</th>\n",
       "    </tr>\n",
       "  </thead>\n",
       "  <tbody>\n",
       "    <tr>\n",
       "      <th>0</th>\n",
       "      <td>892420643555336193</td>\n",
       "      <td>Twitter for iPhone</td>\n",
       "      <td>This is Phineas. He's a mystical boy. Only eve...</td>\n",
       "      <td>https://twitter.com/dog_rates/status/892420643...</td>\n",
       "      <td>13</td>\n",
       "      <td>10</td>\n",
       "      <td>Phineas</td>\n",
       "      <td>8853</td>\n",
       "      <td>39467</td>\n",
       "      <td>2017-08-01 16:23:56+00:00</td>\n",
       "      <td>...</td>\n",
       "      <td>3200889</td>\n",
       "      <td>104</td>\n",
       "      <td>114031</td>\n",
       "      <td>https://pbs.twimg.com/media/DGKD1-bXoAAIAUK.jpg</td>\n",
       "      <td>1</td>\n",
       "      <td>orange</td>\n",
       "      <td>0.097049</td>\n",
       "      <td>False</td>\n",
       "      <td>NaN</td>\n",
       "      <td>Phineas</td>\n",
       "    </tr>\n",
       "    <tr>\n",
       "      <th>1</th>\n",
       "      <td>892177421306343426</td>\n",
       "      <td>Twitter for iPhone</td>\n",
       "      <td>This is Tilly. She's just checking pup on you....</td>\n",
       "      <td>https://twitter.com/dog_rates/status/892177421...</td>\n",
       "      <td>13</td>\n",
       "      <td>10</td>\n",
       "      <td>Tilly</td>\n",
       "      <td>6514</td>\n",
       "      <td>33819</td>\n",
       "      <td>2017-08-01 00:17:27+00:00</td>\n",
       "      <td>...</td>\n",
       "      <td>3200889</td>\n",
       "      <td>104</td>\n",
       "      <td>114031</td>\n",
       "      <td>https://pbs.twimg.com/media/DGGmoV4XsAAUL6n.jpg</td>\n",
       "      <td>1</td>\n",
       "      <td>Chihuahua</td>\n",
       "      <td>0.323581</td>\n",
       "      <td>True</td>\n",
       "      <td>NaN</td>\n",
       "      <td>Tilly</td>\n",
       "    </tr>\n",
       "    <tr>\n",
       "      <th>2</th>\n",
       "      <td>891815181378084864</td>\n",
       "      <td>Twitter for iPhone</td>\n",
       "      <td>This is Archie. He is a rare Norwegian Pouncin...</td>\n",
       "      <td>https://twitter.com/dog_rates/status/891815181...</td>\n",
       "      <td>12</td>\n",
       "      <td>10</td>\n",
       "      <td>Archie</td>\n",
       "      <td>4328</td>\n",
       "      <td>25461</td>\n",
       "      <td>2017-07-31 00:18:03+00:00</td>\n",
       "      <td>...</td>\n",
       "      <td>3200889</td>\n",
       "      <td>104</td>\n",
       "      <td>114031</td>\n",
       "      <td>https://pbs.twimg.com/media/DGBdLU1WsAANxJ9.jpg</td>\n",
       "      <td>1</td>\n",
       "      <td>Chihuahua</td>\n",
       "      <td>0.716012</td>\n",
       "      <td>True</td>\n",
       "      <td>NaN</td>\n",
       "      <td>Archie</td>\n",
       "    </tr>\n",
       "    <tr>\n",
       "      <th>3</th>\n",
       "      <td>891689557279858688</td>\n",
       "      <td>Twitter for iPhone</td>\n",
       "      <td>This is Darla. She commenced a snooze mid meal...</td>\n",
       "      <td>https://twitter.com/dog_rates/status/891689557...</td>\n",
       "      <td>13</td>\n",
       "      <td>10</td>\n",
       "      <td>Darla</td>\n",
       "      <td>8964</td>\n",
       "      <td>42908</td>\n",
       "      <td>2017-07-30 15:58:51+00:00</td>\n",
       "      <td>...</td>\n",
       "      <td>3200889</td>\n",
       "      <td>104</td>\n",
       "      <td>114031</td>\n",
       "      <td>https://pbs.twimg.com/media/DF_q7IAWsAEuuN8.jpg</td>\n",
       "      <td>1</td>\n",
       "      <td>paper_towel</td>\n",
       "      <td>0.170278</td>\n",
       "      <td>False</td>\n",
       "      <td>NaN</td>\n",
       "      <td>Darla</td>\n",
       "    </tr>\n",
       "    <tr>\n",
       "      <th>4</th>\n",
       "      <td>891327558926688256</td>\n",
       "      <td>Twitter for iPhone</td>\n",
       "      <td>This is Franklin. He would like you to stop ca...</td>\n",
       "      <td>https://twitter.com/dog_rates/status/891327558...</td>\n",
       "      <td>12</td>\n",
       "      <td>10</td>\n",
       "      <td>Franklin</td>\n",
       "      <td>9774</td>\n",
       "      <td>41048</td>\n",
       "      <td>2017-07-29 16:00:24+00:00</td>\n",
       "      <td>...</td>\n",
       "      <td>3200889</td>\n",
       "      <td>104</td>\n",
       "      <td>114031</td>\n",
       "      <td>https://pbs.twimg.com/media/DF6hr6BUMAAzZgT.jpg</td>\n",
       "      <td>2</td>\n",
       "      <td>basset</td>\n",
       "      <td>0.555712</td>\n",
       "      <td>True</td>\n",
       "      <td>NaN</td>\n",
       "      <td>Franklin</td>\n",
       "    </tr>\n",
       "    <tr>\n",
       "      <th>...</th>\n",
       "      <td>...</td>\n",
       "      <td>...</td>\n",
       "      <td>...</td>\n",
       "      <td>...</td>\n",
       "      <td>...</td>\n",
       "      <td>...</td>\n",
       "      <td>...</td>\n",
       "      <td>...</td>\n",
       "      <td>...</td>\n",
       "      <td>...</td>\n",
       "      <td>...</td>\n",
       "      <td>...</td>\n",
       "      <td>...</td>\n",
       "      <td>...</td>\n",
       "      <td>...</td>\n",
       "      <td>...</td>\n",
       "      <td>...</td>\n",
       "      <td>...</td>\n",
       "      <td>...</td>\n",
       "      <td>...</td>\n",
       "      <td>...</td>\n",
       "    </tr>\n",
       "    <tr>\n",
       "      <th>6680</th>\n",
       "      <td>752519690950500352</td>\n",
       "      <td>Twitter for iPhone</td>\n",
       "      <td>Hopefully this puppo on a swing will help get ...</td>\n",
       "      <td>https://twitter.com/dog_rates/status/752519690...</td>\n",
       "      <td>11</td>\n",
       "      <td>10</td>\n",
       "      <td>NaN</td>\n",
       "      <td>3917</td>\n",
       "      <td>8157</td>\n",
       "      <td>2016-07-11 15:07:30+00:00</td>\n",
       "      <td>...</td>\n",
       "      <td>3200943</td>\n",
       "      <td>104</td>\n",
       "      <td>114031</td>\n",
       "      <td>https://pbs.twimg.com/media/CnF8qVDWYAAh0g1.jpg</td>\n",
       "      <td>3</td>\n",
       "      <td>swing</td>\n",
       "      <td>0.999984</td>\n",
       "      <td>False</td>\n",
       "      <td>puppo</td>\n",
       "      <td>Monday</td>\n",
       "    </tr>\n",
       "    <tr>\n",
       "      <th>6691</th>\n",
       "      <td>751132876104687617</td>\n",
       "      <td>Twitter for iPhone</td>\n",
       "      <td>This is Cooper. He's just so damn happy. 10/10...</td>\n",
       "      <td>https://twitter.com/dog_rates/status/751132876...</td>\n",
       "      <td>10</td>\n",
       "      <td>10</td>\n",
       "      <td>Cooper</td>\n",
       "      <td>1480</td>\n",
       "      <td>5610</td>\n",
       "      <td>2016-07-07 19:16:47+00:00</td>\n",
       "      <td>...</td>\n",
       "      <td>3200943</td>\n",
       "      <td>104</td>\n",
       "      <td>114031</td>\n",
       "      <td>https://pbs.twimg.com/media/CmyPXNOW8AEtaJ-.jpg</td>\n",
       "      <td>1</td>\n",
       "      <td>Labrador_retriever</td>\n",
       "      <td>0.929390</td>\n",
       "      <td>True</td>\n",
       "      <td>puppo</td>\n",
       "      <td>Cooper</td>\n",
       "    </tr>\n",
       "    <tr>\n",
       "      <th>6753</th>\n",
       "      <td>744995568523612160</td>\n",
       "      <td>Twitter for iPhone</td>\n",
       "      <td>This is Abby. She got her face stuck in a glas...</td>\n",
       "      <td>https://twitter.com/dog_rates/status/744995568...</td>\n",
       "      <td>9</td>\n",
       "      <td>10</td>\n",
       "      <td>Abby</td>\n",
       "      <td>716</td>\n",
       "      <td>3277</td>\n",
       "      <td>2016-06-20 20:49:19+00:00</td>\n",
       "      <td>...</td>\n",
       "      <td>3200943</td>\n",
       "      <td>104</td>\n",
       "      <td>114031</td>\n",
       "      <td>https://pbs.twimg.com/media/ClbBg4WWEAMjwJu.jpg</td>\n",
       "      <td>1</td>\n",
       "      <td>Old_English_sheepdog</td>\n",
       "      <td>0.427481</td>\n",
       "      <td>True</td>\n",
       "      <td>puppo</td>\n",
       "      <td>Abby</td>\n",
       "    </tr>\n",
       "    <tr>\n",
       "      <th>6764</th>\n",
       "      <td>743253157753532416</td>\n",
       "      <td>Twitter for iPhone</td>\n",
       "      <td>This is Kilo. He cannot reach the snackum. Nif...</td>\n",
       "      <td>https://twitter.com/dog_rates/status/743253157...</td>\n",
       "      <td>10</td>\n",
       "      <td>10</td>\n",
       "      <td>Kilo</td>\n",
       "      <td>1366</td>\n",
       "      <td>4624</td>\n",
       "      <td>2016-06-16 01:25:36+00:00</td>\n",
       "      <td>...</td>\n",
       "      <td>3200943</td>\n",
       "      <td>104</td>\n",
       "      <td>114031</td>\n",
       "      <td>https://pbs.twimg.com/media/ClCQzFUUYAA5vAu.jpg</td>\n",
       "      <td>1</td>\n",
       "      <td>malamute</td>\n",
       "      <td>0.442612</td>\n",
       "      <td>True</td>\n",
       "      <td>puppo</td>\n",
       "      <td>Kilo</td>\n",
       "    </tr>\n",
       "    <tr>\n",
       "      <th>6795</th>\n",
       "      <td>738537504001953792</td>\n",
       "      <td>Twitter for iPhone</td>\n",
       "      <td>This is Bayley. She fell asleep trying to esca...</td>\n",
       "      <td>https://twitter.com/dog_rates/status/738537504...</td>\n",
       "      <td>11</td>\n",
       "      <td>10</td>\n",
       "      <td>Bayley</td>\n",
       "      <td>1759</td>\n",
       "      <td>5575</td>\n",
       "      <td>2016-06-03 01:07:16+00:00</td>\n",
       "      <td>...</td>\n",
       "      <td>3200943</td>\n",
       "      <td>104</td>\n",
       "      <td>114031</td>\n",
       "      <td>https://pbs.twimg.com/media/Cj_P7rSUgAAYQbz.jpg</td>\n",
       "      <td>1</td>\n",
       "      <td>chow</td>\n",
       "      <td>0.808737</td>\n",
       "      <td>True</td>\n",
       "      <td>puppo</td>\n",
       "      <td>Bayley</td>\n",
       "    </tr>\n",
       "  </tbody>\n",
       "</table>\n",
       "<p>2311 rows × 21 columns</p>\n",
       "</div>"
      ],
      "text/plain": [
       "                tweet_id              source  \\\n",
       "0     892420643555336193  Twitter for iPhone   \n",
       "1     892177421306343426  Twitter for iPhone   \n",
       "2     891815181378084864  Twitter for iPhone   \n",
       "3     891689557279858688  Twitter for iPhone   \n",
       "4     891327558926688256  Twitter for iPhone   \n",
       "...                  ...                 ...   \n",
       "6680  752519690950500352  Twitter for iPhone   \n",
       "6691  751132876104687617  Twitter for iPhone   \n",
       "6753  744995568523612160  Twitter for iPhone   \n",
       "6764  743253157753532416  Twitter for iPhone   \n",
       "6795  738537504001953792  Twitter for iPhone   \n",
       "\n",
       "                                                   text  \\\n",
       "0     This is Phineas. He's a mystical boy. Only eve...   \n",
       "1     This is Tilly. She's just checking pup on you....   \n",
       "2     This is Archie. He is a rare Norwegian Pouncin...   \n",
       "3     This is Darla. She commenced a snooze mid meal...   \n",
       "4     This is Franklin. He would like you to stop ca...   \n",
       "...                                                 ...   \n",
       "6680  Hopefully this puppo on a swing will help get ...   \n",
       "6691  This is Cooper. He's just so damn happy. 10/10...   \n",
       "6753  This is Abby. She got her face stuck in a glas...   \n",
       "6764  This is Kilo. He cannot reach the snackum. Nif...   \n",
       "6795  This is Bayley. She fell asleep trying to esca...   \n",
       "\n",
       "                                          expanded_urls  rating_numerator  \\\n",
       "0     https://twitter.com/dog_rates/status/892420643...                13   \n",
       "1     https://twitter.com/dog_rates/status/892177421...                13   \n",
       "2     https://twitter.com/dog_rates/status/891815181...                12   \n",
       "3     https://twitter.com/dog_rates/status/891689557...                13   \n",
       "4     https://twitter.com/dog_rates/status/891327558...                12   \n",
       "...                                                 ...               ...   \n",
       "6680  https://twitter.com/dog_rates/status/752519690...                11   \n",
       "6691  https://twitter.com/dog_rates/status/751132876...                10   \n",
       "6753  https://twitter.com/dog_rates/status/744995568...                 9   \n",
       "6764  https://twitter.com/dog_rates/status/743253157...                10   \n",
       "6795  https://twitter.com/dog_rates/status/738537504...                11   \n",
       "\n",
       "      rating_denominator      name  tweet_retweet_count  tweet_favorite_count  \\\n",
       "0                     10   Phineas                 8853                 39467   \n",
       "1                     10     Tilly                 6514                 33819   \n",
       "2                     10    Archie                 4328                 25461   \n",
       "3                     10     Darla                 8964                 42908   \n",
       "4                     10  Franklin                 9774                 41048   \n",
       "...                  ...       ...                  ...                   ...   \n",
       "6680                  10       NaN                 3917                  8157   \n",
       "6691                  10    Cooper                 1480                  5610   \n",
       "6753                  10      Abby                  716                  3277   \n",
       "6764                  10      Kilo                 1366                  4624   \n",
       "6795                  10    Bayley                 1759                  5575   \n",
       "\n",
       "                    created_at  ... user_followers_count  user_friends_count  \\\n",
       "0    2017-08-01 16:23:56+00:00  ...              3200889                 104   \n",
       "1    2017-08-01 00:17:27+00:00  ...              3200889                 104   \n",
       "2    2017-07-31 00:18:03+00:00  ...              3200889                 104   \n",
       "3    2017-07-30 15:58:51+00:00  ...              3200889                 104   \n",
       "4    2017-07-29 16:00:24+00:00  ...              3200889                 104   \n",
       "...                        ...  ...                  ...                 ...   \n",
       "6680 2016-07-11 15:07:30+00:00  ...              3200943                 104   \n",
       "6691 2016-07-07 19:16:47+00:00  ...              3200943                 104   \n",
       "6753 2016-06-20 20:49:19+00:00  ...              3200943                 104   \n",
       "6764 2016-06-16 01:25:36+00:00  ...              3200943                 104   \n",
       "6795 2016-06-03 01:07:16+00:00  ...              3200943                 104   \n",
       "\n",
       "      user_favourites_count                                          jpg_url  \\\n",
       "0                    114031  https://pbs.twimg.com/media/DGKD1-bXoAAIAUK.jpg   \n",
       "1                    114031  https://pbs.twimg.com/media/DGGmoV4XsAAUL6n.jpg   \n",
       "2                    114031  https://pbs.twimg.com/media/DGBdLU1WsAANxJ9.jpg   \n",
       "3                    114031  https://pbs.twimg.com/media/DF_q7IAWsAEuuN8.jpg   \n",
       "4                    114031  https://pbs.twimg.com/media/DF6hr6BUMAAzZgT.jpg   \n",
       "...                     ...                                              ...   \n",
       "6680                 114031  https://pbs.twimg.com/media/CnF8qVDWYAAh0g1.jpg   \n",
       "6691                 114031  https://pbs.twimg.com/media/CmyPXNOW8AEtaJ-.jpg   \n",
       "6753                 114031  https://pbs.twimg.com/media/ClbBg4WWEAMjwJu.jpg   \n",
       "6764                 114031  https://pbs.twimg.com/media/ClCQzFUUYAA5vAu.jpg   \n",
       "6795                 114031  https://pbs.twimg.com/media/Cj_P7rSUgAAYQbz.jpg   \n",
       "\n",
       "     img_num            prediction confidence  is_prediction_dog  \\\n",
       "0          1                orange   0.097049              False   \n",
       "1          1             Chihuahua   0.323581               True   \n",
       "2          1             Chihuahua   0.716012               True   \n",
       "3          1           paper_towel   0.170278              False   \n",
       "4          2                basset   0.555712               True   \n",
       "...      ...                   ...        ...                ...   \n",
       "6680       3                 swing   0.999984              False   \n",
       "6691       1    Labrador_retriever   0.929390               True   \n",
       "6753       1  Old_English_sheepdog   0.427481               True   \n",
       "6764       1              malamute   0.442612               True   \n",
       "6795       1                  chow   0.808737               True   \n",
       "\n",
       "      dog_stage_of_life  dog_name  \n",
       "0                   NaN   Phineas  \n",
       "1                   NaN     Tilly  \n",
       "2                   NaN    Archie  \n",
       "3                   NaN     Darla  \n",
       "4                   NaN  Franklin  \n",
       "...                 ...       ...  \n",
       "6680              puppo    Monday  \n",
       "6691              puppo    Cooper  \n",
       "6753              puppo      Abby  \n",
       "6764              puppo      Kilo  \n",
       "6795              puppo    Bayley  \n",
       "\n",
       "[2311 rows x 21 columns]"
      ]
     },
     "execution_count": 45,
     "metadata": {},
     "output_type": "execute_result"
    }
   ],
   "source": [
    "twitter_archive_clean"
   ]
  },
  {
   "cell_type": "markdown",
   "metadata": {},
   "source": [
    "# define \n",
    "# drop the name coloum replace with dog_name \n",
    "# code"
   ]
  },
  {
   "cell_type": "code",
   "execution_count": 46,
   "metadata": {},
   "outputs": [],
   "source": [
    "twitter_archive_clean = twitter_archive_clean.drop(['name'],1)"
   ]
  },
  {
   "cell_type": "markdown",
   "metadata": {},
   "source": [
    "# Test"
   ]
  },
  {
   "cell_type": "code",
   "execution_count": 47,
   "metadata": {},
   "outputs": [
    {
     "data": {
      "text/html": [
       "<div>\n",
       "<style scoped>\n",
       "    .dataframe tbody tr th:only-of-type {\n",
       "        vertical-align: middle;\n",
       "    }\n",
       "\n",
       "    .dataframe tbody tr th {\n",
       "        vertical-align: top;\n",
       "    }\n",
       "\n",
       "    .dataframe thead th {\n",
       "        text-align: right;\n",
       "    }\n",
       "</style>\n",
       "<table border=\"1\" class=\"dataframe\">\n",
       "  <thead>\n",
       "    <tr style=\"text-align: right;\">\n",
       "      <th></th>\n",
       "      <th>tweet_id</th>\n",
       "      <th>source</th>\n",
       "      <th>text</th>\n",
       "      <th>expanded_urls</th>\n",
       "      <th>rating_numerator</th>\n",
       "      <th>rating_denominator</th>\n",
       "      <th>tweet_retweet_count</th>\n",
       "      <th>tweet_favorite_count</th>\n",
       "      <th>created_at</th>\n",
       "      <th>full_text</th>\n",
       "      <th>user_followers_count</th>\n",
       "      <th>user_friends_count</th>\n",
       "      <th>user_favourites_count</th>\n",
       "      <th>jpg_url</th>\n",
       "      <th>img_num</th>\n",
       "      <th>prediction</th>\n",
       "      <th>confidence</th>\n",
       "      <th>is_prediction_dog</th>\n",
       "      <th>dog_stage_of_life</th>\n",
       "      <th>dog_name</th>\n",
       "    </tr>\n",
       "  </thead>\n",
       "  <tbody>\n",
       "    <tr>\n",
       "      <th>0</th>\n",
       "      <td>892420643555336193</td>\n",
       "      <td>Twitter for iPhone</td>\n",
       "      <td>This is Phineas. He's a mystical boy. Only eve...</td>\n",
       "      <td>https://twitter.com/dog_rates/status/892420643...</td>\n",
       "      <td>13</td>\n",
       "      <td>10</td>\n",
       "      <td>8853</td>\n",
       "      <td>39467</td>\n",
       "      <td>2017-08-01 16:23:56+00:00</td>\n",
       "      <td>This is Phineas. He's a mystical boy. Only eve...</td>\n",
       "      <td>3200889</td>\n",
       "      <td>104</td>\n",
       "      <td>114031</td>\n",
       "      <td>https://pbs.twimg.com/media/DGKD1-bXoAAIAUK.jpg</td>\n",
       "      <td>1</td>\n",
       "      <td>orange</td>\n",
       "      <td>0.097049</td>\n",
       "      <td>False</td>\n",
       "      <td>NaN</td>\n",
       "      <td>Phineas</td>\n",
       "    </tr>\n",
       "    <tr>\n",
       "      <th>1</th>\n",
       "      <td>892177421306343426</td>\n",
       "      <td>Twitter for iPhone</td>\n",
       "      <td>This is Tilly. She's just checking pup on you....</td>\n",
       "      <td>https://twitter.com/dog_rates/status/892177421...</td>\n",
       "      <td>13</td>\n",
       "      <td>10</td>\n",
       "      <td>6514</td>\n",
       "      <td>33819</td>\n",
       "      <td>2017-08-01 00:17:27+00:00</td>\n",
       "      <td>This is Tilly. She's just checking pup on you....</td>\n",
       "      <td>3200889</td>\n",
       "      <td>104</td>\n",
       "      <td>114031</td>\n",
       "      <td>https://pbs.twimg.com/media/DGGmoV4XsAAUL6n.jpg</td>\n",
       "      <td>1</td>\n",
       "      <td>Chihuahua</td>\n",
       "      <td>0.323581</td>\n",
       "      <td>True</td>\n",
       "      <td>NaN</td>\n",
       "      <td>Tilly</td>\n",
       "    </tr>\n",
       "    <tr>\n",
       "      <th>2</th>\n",
       "      <td>891815181378084864</td>\n",
       "      <td>Twitter for iPhone</td>\n",
       "      <td>This is Archie. He is a rare Norwegian Pouncin...</td>\n",
       "      <td>https://twitter.com/dog_rates/status/891815181...</td>\n",
       "      <td>12</td>\n",
       "      <td>10</td>\n",
       "      <td>4328</td>\n",
       "      <td>25461</td>\n",
       "      <td>2017-07-31 00:18:03+00:00</td>\n",
       "      <td>This is Archie. He is a rare Norwegian Pouncin...</td>\n",
       "      <td>3200889</td>\n",
       "      <td>104</td>\n",
       "      <td>114031</td>\n",
       "      <td>https://pbs.twimg.com/media/DGBdLU1WsAANxJ9.jpg</td>\n",
       "      <td>1</td>\n",
       "      <td>Chihuahua</td>\n",
       "      <td>0.716012</td>\n",
       "      <td>True</td>\n",
       "      <td>NaN</td>\n",
       "      <td>Archie</td>\n",
       "    </tr>\n",
       "    <tr>\n",
       "      <th>3</th>\n",
       "      <td>891689557279858688</td>\n",
       "      <td>Twitter for iPhone</td>\n",
       "      <td>This is Darla. She commenced a snooze mid meal...</td>\n",
       "      <td>https://twitter.com/dog_rates/status/891689557...</td>\n",
       "      <td>13</td>\n",
       "      <td>10</td>\n",
       "      <td>8964</td>\n",
       "      <td>42908</td>\n",
       "      <td>2017-07-30 15:58:51+00:00</td>\n",
       "      <td>This is Darla. She commenced a snooze mid meal...</td>\n",
       "      <td>3200889</td>\n",
       "      <td>104</td>\n",
       "      <td>114031</td>\n",
       "      <td>https://pbs.twimg.com/media/DF_q7IAWsAEuuN8.jpg</td>\n",
       "      <td>1</td>\n",
       "      <td>paper_towel</td>\n",
       "      <td>0.170278</td>\n",
       "      <td>False</td>\n",
       "      <td>NaN</td>\n",
       "      <td>Darla</td>\n",
       "    </tr>\n",
       "    <tr>\n",
       "      <th>4</th>\n",
       "      <td>891327558926688256</td>\n",
       "      <td>Twitter for iPhone</td>\n",
       "      <td>This is Franklin. He would like you to stop ca...</td>\n",
       "      <td>https://twitter.com/dog_rates/status/891327558...</td>\n",
       "      <td>12</td>\n",
       "      <td>10</td>\n",
       "      <td>9774</td>\n",
       "      <td>41048</td>\n",
       "      <td>2017-07-29 16:00:24+00:00</td>\n",
       "      <td>This is Franklin. He would like you to stop ca...</td>\n",
       "      <td>3200889</td>\n",
       "      <td>104</td>\n",
       "      <td>114031</td>\n",
       "      <td>https://pbs.twimg.com/media/DF6hr6BUMAAzZgT.jpg</td>\n",
       "      <td>2</td>\n",
       "      <td>basset</td>\n",
       "      <td>0.555712</td>\n",
       "      <td>True</td>\n",
       "      <td>NaN</td>\n",
       "      <td>Franklin</td>\n",
       "    </tr>\n",
       "    <tr>\n",
       "      <th>...</th>\n",
       "      <td>...</td>\n",
       "      <td>...</td>\n",
       "      <td>...</td>\n",
       "      <td>...</td>\n",
       "      <td>...</td>\n",
       "      <td>...</td>\n",
       "      <td>...</td>\n",
       "      <td>...</td>\n",
       "      <td>...</td>\n",
       "      <td>...</td>\n",
       "      <td>...</td>\n",
       "      <td>...</td>\n",
       "      <td>...</td>\n",
       "      <td>...</td>\n",
       "      <td>...</td>\n",
       "      <td>...</td>\n",
       "      <td>...</td>\n",
       "      <td>...</td>\n",
       "      <td>...</td>\n",
       "      <td>...</td>\n",
       "    </tr>\n",
       "    <tr>\n",
       "      <th>6680</th>\n",
       "      <td>752519690950500352</td>\n",
       "      <td>Twitter for iPhone</td>\n",
       "      <td>Hopefully this puppo on a swing will help get ...</td>\n",
       "      <td>https://twitter.com/dog_rates/status/752519690...</td>\n",
       "      <td>11</td>\n",
       "      <td>10</td>\n",
       "      <td>3917</td>\n",
       "      <td>8157</td>\n",
       "      <td>2016-07-11 15:07:30+00:00</td>\n",
       "      <td>Hopefully this puppo on a swing will help get ...</td>\n",
       "      <td>3200943</td>\n",
       "      <td>104</td>\n",
       "      <td>114031</td>\n",
       "      <td>https://pbs.twimg.com/media/CnF8qVDWYAAh0g1.jpg</td>\n",
       "      <td>3</td>\n",
       "      <td>swing</td>\n",
       "      <td>0.999984</td>\n",
       "      <td>False</td>\n",
       "      <td>puppo</td>\n",
       "      <td>Monday</td>\n",
       "    </tr>\n",
       "    <tr>\n",
       "      <th>6691</th>\n",
       "      <td>751132876104687617</td>\n",
       "      <td>Twitter for iPhone</td>\n",
       "      <td>This is Cooper. He's just so damn happy. 10/10...</td>\n",
       "      <td>https://twitter.com/dog_rates/status/751132876...</td>\n",
       "      <td>10</td>\n",
       "      <td>10</td>\n",
       "      <td>1480</td>\n",
       "      <td>5610</td>\n",
       "      <td>2016-07-07 19:16:47+00:00</td>\n",
       "      <td>This is Cooper. He's just so damn happy. 10/10...</td>\n",
       "      <td>3200943</td>\n",
       "      <td>104</td>\n",
       "      <td>114031</td>\n",
       "      <td>https://pbs.twimg.com/media/CmyPXNOW8AEtaJ-.jpg</td>\n",
       "      <td>1</td>\n",
       "      <td>Labrador_retriever</td>\n",
       "      <td>0.929390</td>\n",
       "      <td>True</td>\n",
       "      <td>puppo</td>\n",
       "      <td>Cooper</td>\n",
       "    </tr>\n",
       "    <tr>\n",
       "      <th>6753</th>\n",
       "      <td>744995568523612160</td>\n",
       "      <td>Twitter for iPhone</td>\n",
       "      <td>This is Abby. She got her face stuck in a glas...</td>\n",
       "      <td>https://twitter.com/dog_rates/status/744995568...</td>\n",
       "      <td>9</td>\n",
       "      <td>10</td>\n",
       "      <td>716</td>\n",
       "      <td>3277</td>\n",
       "      <td>2016-06-20 20:49:19+00:00</td>\n",
       "      <td>This is Abby. She got her face stuck in a glas...</td>\n",
       "      <td>3200943</td>\n",
       "      <td>104</td>\n",
       "      <td>114031</td>\n",
       "      <td>https://pbs.twimg.com/media/ClbBg4WWEAMjwJu.jpg</td>\n",
       "      <td>1</td>\n",
       "      <td>Old_English_sheepdog</td>\n",
       "      <td>0.427481</td>\n",
       "      <td>True</td>\n",
       "      <td>puppo</td>\n",
       "      <td>Abby</td>\n",
       "    </tr>\n",
       "    <tr>\n",
       "      <th>6764</th>\n",
       "      <td>743253157753532416</td>\n",
       "      <td>Twitter for iPhone</td>\n",
       "      <td>This is Kilo. He cannot reach the snackum. Nif...</td>\n",
       "      <td>https://twitter.com/dog_rates/status/743253157...</td>\n",
       "      <td>10</td>\n",
       "      <td>10</td>\n",
       "      <td>1366</td>\n",
       "      <td>4624</td>\n",
       "      <td>2016-06-16 01:25:36+00:00</td>\n",
       "      <td>This is Kilo. He cannot reach the snackum. Nif...</td>\n",
       "      <td>3200943</td>\n",
       "      <td>104</td>\n",
       "      <td>114031</td>\n",
       "      <td>https://pbs.twimg.com/media/ClCQzFUUYAA5vAu.jpg</td>\n",
       "      <td>1</td>\n",
       "      <td>malamute</td>\n",
       "      <td>0.442612</td>\n",
       "      <td>True</td>\n",
       "      <td>puppo</td>\n",
       "      <td>Kilo</td>\n",
       "    </tr>\n",
       "    <tr>\n",
       "      <th>6795</th>\n",
       "      <td>738537504001953792</td>\n",
       "      <td>Twitter for iPhone</td>\n",
       "      <td>This is Bayley. She fell asleep trying to esca...</td>\n",
       "      <td>https://twitter.com/dog_rates/status/738537504...</td>\n",
       "      <td>11</td>\n",
       "      <td>10</td>\n",
       "      <td>1759</td>\n",
       "      <td>5575</td>\n",
       "      <td>2016-06-03 01:07:16+00:00</td>\n",
       "      <td>This is Bayley. She fell asleep trying to esca...</td>\n",
       "      <td>3200943</td>\n",
       "      <td>104</td>\n",
       "      <td>114031</td>\n",
       "      <td>https://pbs.twimg.com/media/Cj_P7rSUgAAYQbz.jpg</td>\n",
       "      <td>1</td>\n",
       "      <td>chow</td>\n",
       "      <td>0.808737</td>\n",
       "      <td>True</td>\n",
       "      <td>puppo</td>\n",
       "      <td>Bayley</td>\n",
       "    </tr>\n",
       "  </tbody>\n",
       "</table>\n",
       "<p>2311 rows × 20 columns</p>\n",
       "</div>"
      ],
      "text/plain": [
       "                tweet_id              source  \\\n",
       "0     892420643555336193  Twitter for iPhone   \n",
       "1     892177421306343426  Twitter for iPhone   \n",
       "2     891815181378084864  Twitter for iPhone   \n",
       "3     891689557279858688  Twitter for iPhone   \n",
       "4     891327558926688256  Twitter for iPhone   \n",
       "...                  ...                 ...   \n",
       "6680  752519690950500352  Twitter for iPhone   \n",
       "6691  751132876104687617  Twitter for iPhone   \n",
       "6753  744995568523612160  Twitter for iPhone   \n",
       "6764  743253157753532416  Twitter for iPhone   \n",
       "6795  738537504001953792  Twitter for iPhone   \n",
       "\n",
       "                                                   text  \\\n",
       "0     This is Phineas. He's a mystical boy. Only eve...   \n",
       "1     This is Tilly. She's just checking pup on you....   \n",
       "2     This is Archie. He is a rare Norwegian Pouncin...   \n",
       "3     This is Darla. She commenced a snooze mid meal...   \n",
       "4     This is Franklin. He would like you to stop ca...   \n",
       "...                                                 ...   \n",
       "6680  Hopefully this puppo on a swing will help get ...   \n",
       "6691  This is Cooper. He's just so damn happy. 10/10...   \n",
       "6753  This is Abby. She got her face stuck in a glas...   \n",
       "6764  This is Kilo. He cannot reach the snackum. Nif...   \n",
       "6795  This is Bayley. She fell asleep trying to esca...   \n",
       "\n",
       "                                          expanded_urls  rating_numerator  \\\n",
       "0     https://twitter.com/dog_rates/status/892420643...                13   \n",
       "1     https://twitter.com/dog_rates/status/892177421...                13   \n",
       "2     https://twitter.com/dog_rates/status/891815181...                12   \n",
       "3     https://twitter.com/dog_rates/status/891689557...                13   \n",
       "4     https://twitter.com/dog_rates/status/891327558...                12   \n",
       "...                                                 ...               ...   \n",
       "6680  https://twitter.com/dog_rates/status/752519690...                11   \n",
       "6691  https://twitter.com/dog_rates/status/751132876...                10   \n",
       "6753  https://twitter.com/dog_rates/status/744995568...                 9   \n",
       "6764  https://twitter.com/dog_rates/status/743253157...                10   \n",
       "6795  https://twitter.com/dog_rates/status/738537504...                11   \n",
       "\n",
       "      rating_denominator  tweet_retweet_count  tweet_favorite_count  \\\n",
       "0                     10                 8853                 39467   \n",
       "1                     10                 6514                 33819   \n",
       "2                     10                 4328                 25461   \n",
       "3                     10                 8964                 42908   \n",
       "4                     10                 9774                 41048   \n",
       "...                  ...                  ...                   ...   \n",
       "6680                  10                 3917                  8157   \n",
       "6691                  10                 1480                  5610   \n",
       "6753                  10                  716                  3277   \n",
       "6764                  10                 1366                  4624   \n",
       "6795                  10                 1759                  5575   \n",
       "\n",
       "                    created_at  \\\n",
       "0    2017-08-01 16:23:56+00:00   \n",
       "1    2017-08-01 00:17:27+00:00   \n",
       "2    2017-07-31 00:18:03+00:00   \n",
       "3    2017-07-30 15:58:51+00:00   \n",
       "4    2017-07-29 16:00:24+00:00   \n",
       "...                        ...   \n",
       "6680 2016-07-11 15:07:30+00:00   \n",
       "6691 2016-07-07 19:16:47+00:00   \n",
       "6753 2016-06-20 20:49:19+00:00   \n",
       "6764 2016-06-16 01:25:36+00:00   \n",
       "6795 2016-06-03 01:07:16+00:00   \n",
       "\n",
       "                                              full_text  user_followers_count  \\\n",
       "0     This is Phineas. He's a mystical boy. Only eve...               3200889   \n",
       "1     This is Tilly. She's just checking pup on you....               3200889   \n",
       "2     This is Archie. He is a rare Norwegian Pouncin...               3200889   \n",
       "3     This is Darla. She commenced a snooze mid meal...               3200889   \n",
       "4     This is Franklin. He would like you to stop ca...               3200889   \n",
       "...                                                 ...                   ...   \n",
       "6680  Hopefully this puppo on a swing will help get ...               3200943   \n",
       "6691  This is Cooper. He's just so damn happy. 10/10...               3200943   \n",
       "6753  This is Abby. She got her face stuck in a glas...               3200943   \n",
       "6764  This is Kilo. He cannot reach the snackum. Nif...               3200943   \n",
       "6795  This is Bayley. She fell asleep trying to esca...               3200943   \n",
       "\n",
       "      user_friends_count  user_favourites_count  \\\n",
       "0                    104                 114031   \n",
       "1                    104                 114031   \n",
       "2                    104                 114031   \n",
       "3                    104                 114031   \n",
       "4                    104                 114031   \n",
       "...                  ...                    ...   \n",
       "6680                 104                 114031   \n",
       "6691                 104                 114031   \n",
       "6753                 104                 114031   \n",
       "6764                 104                 114031   \n",
       "6795                 104                 114031   \n",
       "\n",
       "                                              jpg_url  img_num  \\\n",
       "0     https://pbs.twimg.com/media/DGKD1-bXoAAIAUK.jpg        1   \n",
       "1     https://pbs.twimg.com/media/DGGmoV4XsAAUL6n.jpg        1   \n",
       "2     https://pbs.twimg.com/media/DGBdLU1WsAANxJ9.jpg        1   \n",
       "3     https://pbs.twimg.com/media/DF_q7IAWsAEuuN8.jpg        1   \n",
       "4     https://pbs.twimg.com/media/DF6hr6BUMAAzZgT.jpg        2   \n",
       "...                                               ...      ...   \n",
       "6680  https://pbs.twimg.com/media/CnF8qVDWYAAh0g1.jpg        3   \n",
       "6691  https://pbs.twimg.com/media/CmyPXNOW8AEtaJ-.jpg        1   \n",
       "6753  https://pbs.twimg.com/media/ClbBg4WWEAMjwJu.jpg        1   \n",
       "6764  https://pbs.twimg.com/media/ClCQzFUUYAA5vAu.jpg        1   \n",
       "6795  https://pbs.twimg.com/media/Cj_P7rSUgAAYQbz.jpg        1   \n",
       "\n",
       "                prediction  confidence  is_prediction_dog dog_stage_of_life  \\\n",
       "0                   orange    0.097049              False               NaN   \n",
       "1                Chihuahua    0.323581               True               NaN   \n",
       "2                Chihuahua    0.716012               True               NaN   \n",
       "3              paper_towel    0.170278              False               NaN   \n",
       "4                   basset    0.555712               True               NaN   \n",
       "...                    ...         ...                ...               ...   \n",
       "6680                 swing    0.999984              False             puppo   \n",
       "6691    Labrador_retriever    0.929390               True             puppo   \n",
       "6753  Old_English_sheepdog    0.427481               True             puppo   \n",
       "6764              malamute    0.442612               True             puppo   \n",
       "6795                  chow    0.808737               True             puppo   \n",
       "\n",
       "      dog_name  \n",
       "0      Phineas  \n",
       "1        Tilly  \n",
       "2       Archie  \n",
       "3        Darla  \n",
       "4     Franklin  \n",
       "...        ...  \n",
       "6680    Monday  \n",
       "6691    Cooper  \n",
       "6753      Abby  \n",
       "6764      Kilo  \n",
       "6795    Bayley  \n",
       "\n",
       "[2311 rows x 20 columns]"
      ]
     },
     "execution_count": 47,
     "metadata": {},
     "output_type": "execute_result"
    }
   ],
   "source": [
    "twitter_archive_clean"
   ]
  },
  {
   "cell_type": "code",
   "execution_count": 48,
   "metadata": {},
   "outputs": [
    {
     "name": "stdout",
     "output_type": "stream",
     "text": [
      "<class 'pandas.core.frame.DataFrame'>\n",
      "Int64Index: 2311 entries, 0 to 6795\n",
      "Data columns (total 20 columns):\n",
      " #   Column                 Non-Null Count  Dtype              \n",
      "---  ------                 --------------  -----              \n",
      " 0   tweet_id               2311 non-null   int64              \n",
      " 1   source                 2311 non-null   object             \n",
      " 2   text                   2311 non-null   object             \n",
      " 3   expanded_urls          2311 non-null   object             \n",
      " 4   rating_numerator       2311 non-null   int64              \n",
      " 5   rating_denominator     2311 non-null   int64              \n",
      " 6   tweet_retweet_count    2311 non-null   int64              \n",
      " 7   tweet_favorite_count   2311 non-null   int64              \n",
      " 8   created_at             2311 non-null   datetime64[ns, UTC]\n",
      " 9   full_text              2311 non-null   object             \n",
      " 10  user_followers_count   2311 non-null   int64              \n",
      " 11  user_friends_count     2311 non-null   int64              \n",
      " 12  user_favourites_count  2311 non-null   int64              \n",
      " 13  jpg_url                2311 non-null   object             \n",
      " 14  img_num                2311 non-null   int64              \n",
      " 15  prediction             2311 non-null   object             \n",
      " 16  confidence             2311 non-null   float64            \n",
      " 17  is_prediction_dog      2311 non-null   bool               \n",
      " 18  dog_stage_of_life      317 non-null    object             \n",
      " 19  dog_name               1603 non-null   object             \n",
      "dtypes: bool(1), datetime64[ns, UTC](1), float64(1), int64(9), object(8)\n",
      "memory usage: 443.4+ KB\n"
     ]
    }
   ],
   "source": [
    "twitter_archive_clean.info()"
   ]
  },
  {
   "cell_type": "markdown",
   "metadata": {},
   "source": [
    "# define\n",
    "# save master data frame\n",
    "\n",
    "# code "
   ]
  },
  {
   "cell_type": "code",
   "execution_count": 49,
   "metadata": {},
   "outputs": [],
   "source": [
    "twitter_archive_clean.to_csv('twitter_archive_clean.csv', index=False)"
   ]
  },
  {
   "cell_type": "markdown",
   "metadata": {},
   "source": [
    "# visualizations and analyses  \n"
   ]
  },
  {
   "cell_type": "markdown",
   "metadata": {},
   "source": [
    "# Visualization 1 \n",
    "#  Analyses: this is the most frequent dog name\n",
    "# code"
   ]
  },
  {
   "cell_type": "code",
   "execution_count": 50,
   "metadata": {},
   "outputs": [
    {
     "data": {
      "text/plain": [
       "([<matplotlib.patches.Wedge at 0x1a042b1da30>,\n",
       "  <matplotlib.patches.Wedge at 0x1a042b1df10>,\n",
       "  <matplotlib.patches.Wedge at 0x1a042b263d0>,\n",
       "  <matplotlib.patches.Wedge at 0x1a042b26850>,\n",
       "  <matplotlib.patches.Wedge at 0x1a042b26cd0>],\n",
       " [Text(0.9552064052176444, 0.8818053772977262, 'Charlie'),\n",
       "  Text(-0.6897448790119771, 0.9819633403934962, 'Cooper'),\n",
       "  Text(-1.0927617270324617, -0.4958546237891021, 'Oliver'),\n",
       "  Text(0.09574335134032877, -1.1961744064617512, 'Tucker'),\n",
       "  Text(1.0648224992873685, -0.5533109839967052, 'Lucy')])"
      ]
     },
     "execution_count": 50,
     "metadata": {},
     "output_type": "execute_result"
    },
    {
     "data": {
      "image/png": "[encoded data removed]",
      "text/plain": [
       "<Figure size 432x288 with 1 Axes>"
      ]
     },
     "metadata": {},
     "output_type": "display_data"
    }
   ],
   "source": [
    "dog_name_count = twitter_archive_clean.dog_name.value_counts().head(5)\n",
    "dog_name_count\n",
    "labels_sources = ['Charlie','Cooper', 'Oliver','Tucker', 'Lucy']\n",
    "explode =(0.2, 0.1, 0.1,0.1,0.1)\n",
    "plt.pie(dog_name_count,explode = explode,labels = labels_sources)"
   ]
  },
  {
   "cell_type": "code",
   "execution_count": 51,
   "metadata": {},
   "outputs": [
    {
     "data": {
      "text/plain": [
       "Charlie    14\n",
       "Cooper     13\n",
       "Oliver     13\n",
       "Lucy       10\n",
       "Winston     9\n",
       "Name: dog_name, dtype: int64"
      ]
     },
     "execution_count": 51,
     "metadata": {},
     "output_type": "execute_result"
    }
   ],
   "source": [
    "dog_name_count"
   ]
  },
  {
   "cell_type": "code",
   "execution_count": 52,
   "metadata": {},
   "outputs": [
    {
     "data": {
      "text/plain": [
       "dog_stage_of_life\n",
       "doggo       74\n",
       "floofer      8\n",
       "pupper     212\n",
       "puppo       23\n",
       "Name: tweet_id, dtype: int64"
      ]
     },
     "execution_count": 52,
     "metadata": {},
     "output_type": "execute_result"
    }
   ],
   "source": [
    "count_dogs = twitter_archive_clean.groupby('dog_stage_of_life')['tweet_id'].count()\n",
    "count_dogs"
   ]
  },
  {
   "cell_type": "markdown",
   "metadata": {},
   "source": [
    "# Visualization 2 \n",
    "#  Analyses: this is the most frequent Dog stage of life \n",
    "# code"
   ]
  },
  {
   "cell_type": "code",
   "execution_count": 53,
   "metadata": {},
   "outputs": [
    {
     "data": {
      "text/plain": [
       "Text(0, 0.5, 'Count')"
      ]
     },
     "execution_count": 53,
     "metadata": {},
     "output_type": "execute_result"
    },
    {
     "data": {
      "image/png": "[encoded data removed]",
      "text/plain": [
       "<Figure size 720x360 with 1 Axes>"
      ]
     },
     "metadata": {
      "needs_background": "light"
     },
     "output_type": "display_data"
    }
   ],
   "source": [
    "plt.subplots(figsize=(10, 5))\n",
    "plt.bar([1, 2, 3, 4], count_dogs, tick_label=['doggo','floofer','pupper', 'puppo'])\n",
    "plt.title('Dog_stage_of_life')\n",
    "plt.xlabel('Stage_of_life', weight='bold')\n",
    "plt.ylabel('Count', weight='bold')"
   ]
  },
  {
   "cell_type": "markdown",
   "metadata": {},
   "source": [
    "# Visualization 3 \n",
    "#  Analyses: a very big  correlation between the tweet(retweets and favorites).\n",
    "# code"
   ]
  },
  {
   "cell_type": "code",
   "execution_count": 54,
   "metadata": {},
   "outputs": [
    {
     "data": {
      "text/plain": [
       "Text(0.5, 1.0, 'Retweets and favorites Scatter plot')"
      ]
     },
     "execution_count": 54,
     "metadata": {},
     "output_type": "execute_result"
    },
    {
     "data": {
      "image/png": "[encoded data removed]",
      "text/plain": [
       "<Figure size 432x288 with 1 Axes>"
      ]
     },
     "metadata": {
      "needs_background": "light"
     },
     "output_type": "display_data"
    }
   ],
   "source": [
    "plt.scatter( twitter_archive_clean['tweet_retweet_count'],twitter_archive_clean['tweet_favorite_count'])\n",
    "plt.xlabel('tweet_retweet_count')\n",
    "plt.ylabel('tweet_favorite_count')\n",
    "plt.title('Retweets and favorites Scatter plot')"
   ]
  },
  {
   "cell_type": "markdown",
   "metadata": {},
   "source": [
    "# Visualization 4 \n",
    "#  Analyses: the most  tweetes are frequent tweets ues (Twitter for iPhone)\n",
    "# code"
   ]
  },
  {
   "cell_type": "code",
   "execution_count": 55,
   "metadata": {},
   "outputs": [
    {
     "data": {
      "text/plain": [
       "Text(0, 0.5, 'Count')"
      ]
     },
     "execution_count": 55,
     "metadata": {},
     "output_type": "execute_result"
    },
    {
     "data": {
      "image/png": "[encoded data removed]",
      "text/plain": [
       "<Figure size 720x360 with 1 Axes>"
      ]
     },
     "metadata": {
      "needs_background": "light"
     },
     "output_type": "display_data"
    }
   ],
   "source": [
    "count_source = twitter_archive_clean.groupby('source')['tweet_id'].count()\n",
    "count_source\n",
    "plt.subplots(figsize=(10, 5))\n",
    "plt.bar([1, 2, 3], count_source, tick_label=['TweetDeck','Twitter Web Client','Twitter for iPhone'])\n",
    "plt.title('Source types')\n",
    "plt.xlabel('Source type', weight='bold')\n",
    "plt.ylabel('Count', weight='bold')"
   ]
  },
  {
   "cell_type": "markdown",
   "metadata": {},
   "source": [
    "# Visualization 5\n",
    "#  Analyses: the tweetes(tweet_retweet_count,tweet_favorite_count ) not effected by  user_followers_count\n",
    "# code"
   ]
  },
  {
   "cell_type": "code",
   "execution_count": 56,
   "metadata": {},
   "outputs": [
    {
     "data": {
      "text/plain": [
       "Text(0.5, 1.0, 'Retweets and user_followers Scatter plot')"
      ]
     },
     "execution_count": 56,
     "metadata": {},
     "output_type": "execute_result"
    },
    {
     "data": {
      "image/png": "[encoded data removed]",
      "text/plain": [
       "<Figure size 432x288 with 1 Axes>"
      ]
     },
     "metadata": {
      "needs_background": "light"
     },
     "output_type": "display_data"
    }
   ],
   "source": [
    "\n",
    "plt.scatter( twitter_archive_clean['user_followers_count'],twitter_archive_clean['tweet_retweet_count'])\n",
    "plt.xlabel('user_followers_count')\n",
    "plt.ylabel('tweet_retweet_count')\n",
    "plt.title('Retweets and user_followers Scatter plot')"
   ]
  },
  {
   "cell_type": "code",
   "execution_count": 57,
   "metadata": {},
   "outputs": [
    {
     "data": {
      "text/plain": [
       "Text(0.5, 1.0, 'Retweets and user_followers Scatter plot')"
      ]
     },
     "execution_count": 57,
     "metadata": {},
     "output_type": "execute_result"
    },
    {
     "data": {
      "image/png": "[encoded data removed]",
      "text/plain": [
       "<Figure size 432x288 with 1 Axes>"
      ]
     },
     "metadata": {
      "needs_background": "light"
     },
     "output_type": "display_data"
    }
   ],
   "source": [
    "plt.scatter( twitter_archive_clean['user_followers_count'],twitter_archive_clean['tweet_favorite_count'])\n",
    "plt.xlabel('user_followers_count')\n",
    "plt.ylabel('tweet_favorite_count')\n",
    "plt.title('Retweets and user_followers Scatter plot')"
   ]
  },
  {
   "cell_type": "code",
   "execution_count": null,
   "metadata": {},
   "outputs": [],
   "source": []
  }
 ],
 "metadata": {
  "kernelspec": {
   "display_name": "Python 3",
   "language": "python",
   "name": "python3"
  },
  "language_info": {
   "codemirror_mode": {
    "name": "ipython",
    "version": 3
   },
   "file_extension": ".py",
   "mimetype": "text/x-python",
   "name": "python",
   "nbconvert_exporter": "python",
   "pygments_lexer": "ipython3",
   "version": "3.8.5"
  }
 },
 "nbformat": 4,
 "nbformat_minor": 4
}
